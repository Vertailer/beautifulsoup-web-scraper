{
 "cells": [
  {
   "cell_type": "markdown",
   "metadata": {},
   "source": [
    "Import libs"
   ]
  },
  {
   "cell_type": "code",
   "execution_count": 5,
   "metadata": {
    "pycharm": {
     "name": "#%%\n"
    }
   },
   "outputs": [],
   "source": [
    "import numpy as np\n",
    "import pandas as pd\n",
    "\n",
    "from bs4 import BeautifulSoup\n",
    "import requests\n",
    "\n",
    "import os\n",
    "import time\n",
    "import glob\n",
    "import itertools\n",
    "import lxml"
   ]
  },
  {
   "cell_type": "markdown",
   "source": [
    "Generator function  for downloading pages"
   ],
   "metadata": {
    "collapsed": false,
    "pycharm": {
     "name": "#%% md\n"
    }
   }
  },
  {
   "cell_type": "markdown",
   "metadata": {
    "pycharm": {
     "name": "#%% md\n"
    }
   },
   "source": [
    "Function to cover making HTTP requests"
   ]
  },
  {
   "cell_type": "code",
   "execution_count": 10,
   "outputs": [],
   "source": [
    "def send_http_request(url, method='GET', body=''):\n",
    "    response = requests.request(method=method, url=url)\n",
    "    if 200 <= response.status_code < 400:\n",
    "        return response.content|\n",
    "    else:\n",
    "        return None"
   ],
   "metadata": {
    "collapsed": false,
    "pycharm": {
     "name": "#%%\n"
    }
   }
  },
  {
   "cell_type": "code",
   "execution_count": 8,
   "outputs": [],
   "source": [
    "def post_from_url_generator(base_url, sleep_time=5):\n",
    "    for i in range(99999):\n",
    "        url = f\"{base_url}{i}\"\n",
    "        response_text = send_http_request(url, method='POST')\n",
    "        time.sleep(sleep_time)\n",
    "        if response_text: yield response_text\n",
    "        else: break\n",
    "\n",
    "\n",
    "    # while resp != \"\\\"\\\"\" and i <= pages:\n",
    "    #     url = f\"{base_url}{i}\"\n",
    "    #     print(f\"Getting POST response from URL: {url}\")\n",
    "    #     resp = \"testestes\"\n",
    "    #     resp = requests.post(url)\n",
    "    #     time.sleep(sleep_time)\n",
    "    #     yield resp.content\n",
    "    #     i += 1"
   ],
   "metadata": {
    "collapsed": false,
    "pycharm": {
     "name": "#%%\n"
    }
   }
  },
  {
   "cell_type": "markdown",
   "source": [
    "Download pages"
   ],
   "metadata": {
    "collapsed": false,
    "pycharm": {
     "name": "#%% md\n"
    }
   }
  },
  {
   "cell_type": "code",
   "execution_count": 11,
   "outputs": [
    {
     "data": {
      "text/plain": "[b'\"\"',\n b'\"<article id=\\\\\"post-2493\\\\\" class=\\\\\"post-2493 post type-post status-publish format-standard has-post-thumbnail hentry category-python tag-model tag-pipeline tag-python tag-scikit-learn layout-default col-12 nv-non-grid-article\\\\\">\\\\n\\\\t<div class=\\\\\"article-content-col\\\\\">\\\\n\\\\t\\\\t<div class=\\\\\"content\\\\\">\\\\n\\\\t\\\\t\\\\t<div class=\\\\\"nv-post-thumbnail-wrap\\\\\"><a href=\\\\\"https:\\\\/\\\\/blog.prokulski.science\\\\/index.php\\\\/2020\\\\/12\\\\/23\\\\/hyperopt-scikit-learn\\\\/\\\\\" rel=\\\\\"bookmark\\\\\" title=\\\\\"Hyperopt i szukanie najlepszego parametru\\\\\"><img width=\\\\\"640\\\\\" height=\\\\\"426\\\\\" src=\\\\\"https:\\\\/\\\\/blog.prokulski.science\\\\/downloads\\\\/2020\\\\/12\\\\/srubki.jpg\\\\\" class=\\\\\"attachment-neve-blog size-neve-blog wp-post-image\\\\\" alt=\\\\\"\\\\\" loading=\\\\\"lazy\\\\\" srcset=\\\\\"https:\\\\/\\\\/blog.prokulski.science\\\\/downloads\\\\/2020\\\\/12\\\\/srubki.jpg 640w, https:\\\\/\\\\/blog.prokulski.science\\\\/downloads\\\\/2020\\\\/12\\\\/srubki-300x200.jpg 300w\\\\\" sizes=\\\\\"(max-width: 640px) 100vw, 640px\\\\\" \\\\/><\\\\/a><\\\\/div><div class=\\\\\"non-grid-content default-layout-content\\\\\"><h2 class=\\\\\"blog-entry-title entry-title\\\\\"><a href=\\\\\"https:\\\\/\\\\/blog.prokulski.science\\\\/index.php\\\\/2020\\\\/12\\\\/23\\\\/hyperopt-scikit-learn\\\\/\\\\\" rel=\\\\\"bookmark\\\\\">Hyperopt i szukanie najlepszego parametru<\\\\/a><\\\\/h2><ul class=\\\\\"nv-meta-list\\\\\"><li  class=\\\\\"meta author vcard\\\\\"><span class=\\\\\"author-name fn\\\\\">by <a href=\\\\\"https:\\\\/\\\\/blog.prokulski.science\\\\/index.php\\\\/author\\\\/ukasz\\\\/\\\\\" title=\\\\\"Posts by \\\\u0141ukasz\\\\\" rel=\\\\\"author\\\\\">\\\\u0141ukasz<\\\\/a><\\\\/span><\\\\/li><li class=\\\\\"meta category\\\\\"><a href=\\\\\"https:\\\\/\\\\/blog.prokulski.science\\\\/index.php\\\\/category\\\\/python\\\\/\\\\\" rel=\\\\\"category tag\\\\\">Python<\\\\/a><\\\\/li><li class=\\\\\"meta date posted-on\\\\\"><time class=\\\\\"entry-date published\\\\\" datetime=\\\\\"2020-12-23T15:04:21+02:00\\\\\" content=\\\\\"2020-12-23\\\\\">23-12-2020<\\\\/time><time class=\\\\\"updated\\\\\" datetime=\\\\\"2020-12-23T15:06:59+02:00\\\\\">23-12-2020<\\\\/time><\\\\/li><\\\\/ul><div class=\\\\\"excerpt-wrap entry-summary\\\\\"><p>Jak dobra\\\\u0107 hyperparametry w modelach aby model dawa\\\\u0142 najlepsze wynik? Tutorial z u\\\\u017cyciem pakietu hyperopt<\\\\/p>\\\\n<\\\\/div><\\\\/div>\\\\t\\\\t<\\\\/div>\\\\n\\\\t<\\\\/div>\\\\n<\\\\/article>\\\\n<article id=\\\\\"post-2487\\\\\" class=\\\\\"post-2487 post type-post status-publish format-standard has-post-thumbnail hentry category-python tag-analiza-danych tag-model tag-python tag-scikit-learn layout-default col-12 nv-non-grid-article\\\\\">\\\\n\\\\t<div class=\\\\\"article-content-col\\\\\">\\\\n\\\\t\\\\t<div class=\\\\\"content\\\\\">\\\\n\\\\t\\\\t\\\\t<div class=\\\\\"nv-post-thumbnail-wrap\\\\\"><a href=\\\\\"https:\\\\/\\\\/blog.prokulski.science\\\\/index.php\\\\/2020\\\\/11\\\\/05\\\\/pipeline-w-scikit-learn-wlasny-estymator\\\\/\\\\\" rel=\\\\\"bookmark\\\\\" title=\\\\\"Pipeline w SciKit Learn &#8211; w\\\\u0142asny estymator\\\\\"><img width=\\\\\"930\\\\\" height=\\\\\"620\\\\\" src=\\\\\"https:\\\\/\\\\/blog.prokulski.science\\\\/downloads\\\\/2020\\\\/10\\\\/jj-ying-4XvAZN8_WHo-unsplash-930x620.jpg\\\\\" class=\\\\\"attachment-neve-blog size-neve-blog wp-post-image\\\\\" alt=\\\\\"\\\\\" loading=\\\\\"lazy\\\\\" srcset=\\\\\"https:\\\\/\\\\/blog.prokulski.science\\\\/downloads\\\\/2020\\\\/10\\\\/jj-ying-4XvAZN8_WHo-unsplash-930x620.jpg 930w, https:\\\\/\\\\/blog.prokulski.science\\\\/downloads\\\\/2020\\\\/10\\\\/jj-ying-4XvAZN8_WHo-unsplash-300x201.jpg 300w\\\\\" sizes=\\\\\"(max-width: 930px) 100vw, 930px\\\\\" \\\\/><\\\\/a><\\\\/div><div class=\\\\\"non-grid-content default-layout-content\\\\\"><h2 class=\\\\\"blog-entry-title entry-title\\\\\"><a href=\\\\\"https:\\\\/\\\\/blog.prokulski.science\\\\/index.php\\\\/2020\\\\/11\\\\/05\\\\/pipeline-w-scikit-learn-wlasny-estymator\\\\/\\\\\" rel=\\\\\"bookmark\\\\\">Pipeline w SciKit Learn &#8211; w\\\\u0142asny estymator<\\\\/a><\\\\/h2><ul class=\\\\\"nv-meta-list\\\\\"><li  class=\\\\\"meta author vcard\\\\\"><span class=\\\\\"author-name fn\\\\\">by <a href=\\\\\"https:\\\\/\\\\/blog.prokulski.science\\\\/index.php\\\\/author\\\\/ukasz\\\\/\\\\\" title=\\\\\"Posts by \\\\u0141ukasz\\\\\" rel=\\\\\"author\\\\\">\\\\u0141ukasz<\\\\/a><\\\\/span><\\\\/li><li class=\\\\\"meta category\\\\\"><a href=\\\\\"https:\\\\/\\\\/blog.prokulski.science\\\\/index.php\\\\/category\\\\/python\\\\/\\\\\" rel=\\\\\"category tag\\\\\">Python<\\\\/a><\\\\/li><li class=\\\\\"meta date posted-on\\\\\"><time class=\\\\\"entry-date published\\\\\" datetime=\\\\\"2020-11-05T15:32:20+02:00\\\\\" content=\\\\\"2020-11-05\\\\\">05-11-2020<\\\\/time><\\\\/li><\\\\/ul><div class=\\\\\"excerpt-wrap entry-summary\\\\\"><p>Dzisiaj napiszemy w\\\\u0142asny (a raczej poznamy mechanik\\\\u0119 dzia\\\\u0142ania) oraz nauczymy si\\\\u0119 szuka\\\\u0107 najlepszych hyper parametr\\\\u00f3w dla modelu (w\\\\u0142a\\\\u015bciwie: ca\\\\u0142ego pipeline) w zwarty spos\\\\u00f3b.<\\\\/p>\\\\n<p><a href=\\\\\"https:\\\\/\\\\/blog.prokulski.science\\\\/index.php\\\\/2020\\\\/11\\\\/05\\\\/pipeline-w-scikit-learn-wlasny-estymator\\\\/\\\\\" class=\\\\\"\\\\\" rel=\\\\\"bookmark\\\\\">Czytaj wi\\\\u0119cej &raquo;<span class=\\\\\"screen-reader-text\\\\\">Pipeline w SciKit Learn &#8211; w\\\\u0142asny estymator<\\\\/span><\\\\/a><\\\\/p>\\\\n<\\\\/div><\\\\/div>\\\\t\\\\t<\\\\/div>\\\\n\\\\t<\\\\/div>\\\\n<\\\\/article>\\\\n<article id=\\\\\"post-2478\\\\\" class=\\\\\"post-2478 post type-post status-publish format-standard has-post-thumbnail hentry category-python tag-analiza-danych tag-model tag-python tag-scikit-learn layout-default col-12 nv-non-grid-article\\\\\">\\\\n\\\\t<div class=\\\\\"article-content-col\\\\\">\\\\n\\\\t\\\\t<div class=\\\\\"content\\\\\">\\\\n\\\\t\\\\t\\\\t<div class=\\\\\"nv-post-thumbnail-wrap\\\\\"><a href=\\\\\"https:\\\\/\\\\/blog.prokulski.science\\\\/index.php\\\\/2020\\\\/10\\\\/10\\\\/pipeline-w-scikit-learn\\\\/\\\\\" rel=\\\\\"bookmark\\\\\" title=\\\\\"Pipeline w SciKit Learn\\\\\"><img width=\\\\\"930\\\\\" height=\\\\\"620\\\\\" src=\\\\\"https:\\\\/\\\\/blog.prokulski.science\\\\/downloads\\\\/2020\\\\/10\\\\/jj-ying-4XvAZN8_WHo-unsplash-930x620.jpg\\\\\" class=\\\\\"attachment-neve-blog size-neve-blog wp-post-image\\\\\" alt=\\\\\"\\\\\" loading=\\\\\"lazy\\\\\" srcset=\\\\\"https:\\\\/\\\\/blog.prokulski.science\\\\/downloads\\\\/2020\\\\/10\\\\/jj-ying-4XvAZN8_WHo-unsplash-930x620.jpg 930w, https:\\\\/\\\\/blog.prokulski.science\\\\/downloads\\\\/2020\\\\/10\\\\/jj-ying-4XvAZN8_WHo-unsplash-300x201.jpg 300w\\\\\" sizes=\\\\\"(max-width: 930px) 100vw, 930px\\\\\" \\\\/><\\\\/a><\\\\/div><div class=\\\\\"non-grid-content default-layout-content\\\\\"><h2 class=\\\\\"blog-entry-title entry-title\\\\\"><a href=\\\\\"https:\\\\/\\\\/blog.prokulski.science\\\\/index.php\\\\/2020\\\\/10\\\\/10\\\\/pipeline-w-scikit-learn\\\\/\\\\\" rel=\\\\\"bookmark\\\\\">Pipeline w SciKit Learn<\\\\/a><\\\\/h2><ul class=\\\\\"nv-meta-list\\\\\"><li  class=\\\\\"meta author vcard\\\\\"><span class=\\\\\"author-name fn\\\\\">by <a href=\\\\\"https:\\\\/\\\\/blog.prokulski.science\\\\/index.php\\\\/author\\\\/ukasz\\\\/\\\\\" title=\\\\\"Posts by \\\\u0141ukasz\\\\\" rel=\\\\\"author\\\\\">\\\\u0141ukasz<\\\\/a><\\\\/span><\\\\/li><li class=\\\\\"meta category\\\\\"><a href=\\\\\"https:\\\\/\\\\/blog.prokulski.science\\\\/index.php\\\\/category\\\\/python\\\\/\\\\\" rel=\\\\\"category tag\\\\\">Python<\\\\/a><\\\\/li><li class=\\\\\"meta date posted-on\\\\\"><time class=\\\\\"entry-date published\\\\\" datetime=\\\\\"2020-10-10T11:21:01+02:00\\\\\" content=\\\\\"2020-10-10\\\\\">10-10-2020<\\\\/time><time class=\\\\\"updated\\\\\" datetime=\\\\\"2020-10-10T11:22:16+02:00\\\\\">10-10-2020<\\\\/time><\\\\/li><li class=\\\\\"meta comments\\\\\"><a href=\\\\\"https:\\\\/\\\\/blog.prokulski.science\\\\/index.php\\\\/2020\\\\/10\\\\/10\\\\/pipeline-w-scikit-learn\\\\/#comments\\\\\">1 Komentarz<\\\\/a><\\\\/li><\\\\/ul><div class=\\\\\"excerpt-wrap entry-summary\\\\\"><p>Co to s\\\\u0105 <em>pipelines<\\\\/em> w sci-kit learn i jak je wykorzysta\\\\u0107? Czyli <strong>bardziej efektywne szukanie najlepszego modelu<\\\\/strong>.<\\\\/p>\\\\n<p><a href=\\\\\"https:\\\\/\\\\/blog.prokulski.science\\\\/index.php\\\\/2020\\\\/10\\\\/10\\\\/pipeline-w-scikit-learn\\\\/\\\\\" class=\\\\\"\\\\\" rel=\\\\\"bookmark\\\\\">Czytaj wi\\\\u0119cej &raquo;<span class=\\\\\"screen-reader-text\\\\\">Pipeline w SciKit Learn<\\\\/span><\\\\/a><\\\\/p>\\\\n<\\\\/div><\\\\/div>\\\\t\\\\t<\\\\/div>\\\\n\\\\t<\\\\/div>\\\\n<\\\\/article>\\\\n<article id=\\\\\"post-2445\\\\\" class=\\\\\"post-2445 post type-post status-publish format-standard has-post-thumbnail hentry category-bez-kategorii tag-konferencja tag-partner-medialny layout-default col-12 nv-non-grid-article\\\\\">\\\\n\\\\t<div class=\\\\\"article-content-col\\\\\">\\\\n\\\\t\\\\t<div class=\\\\\"content\\\\\">\\\\n\\\\t\\\\t\\\\t<div class=\\\\\"nv-post-thumbnail-wrap\\\\\"><a href=\\\\\"https:\\\\/\\\\/blog.prokulski.science\\\\/index.php\\\\/2020\\\\/09\\\\/18\\\\/dssconf-2020\\\\/\\\\\" rel=\\\\\"bookmark\\\\\" title=\\\\\"Data Science Summit 2020\\\\\"><img width=\\\\\"930\\\\\" height=\\\\\"620\\\\\" src=\\\\\"https:\\\\/\\\\/blog.prokulski.science\\\\/downloads\\\\/2020\\\\/09\\\\/DSS20_1200x1200-930x620.png\\\\\" class=\\\\\"attachment-neve-blog size-neve-blog wp-post-image\\\\\" alt=\\\\\"\\\\\" loading=\\\\\"lazy\\\\\" \\\\/><\\\\/a><\\\\/div><div class=\\\\\"non-grid-content default-layout-content\\\\\"><h2 class=\\\\\"blog-entry-title entry-title\\\\\"><a href=\\\\\"https:\\\\/\\\\/blog.prokulski.science\\\\/index.php\\\\/2020\\\\/09\\\\/18\\\\/dssconf-2020\\\\/\\\\\" rel=\\\\\"bookmark\\\\\">Data Science Summit 2020<\\\\/a><\\\\/h2><ul class=\\\\\"nv-meta-list\\\\\"><li  class=\\\\\"meta author vcard\\\\\"><span class=\\\\\"author-name fn\\\\\">by <a href=\\\\\"https:\\\\/\\\\/blog.prokulski.science\\\\/index.php\\\\/author\\\\/ukasz\\\\/\\\\\" title=\\\\\"Posts by \\\\u0141ukasz\\\\\" rel=\\\\\"author\\\\\">\\\\u0141ukasz<\\\\/a><\\\\/span><\\\\/li><li class=\\\\\"meta category\\\\\"><a href=\\\\\"https:\\\\/\\\\/blog.prokulski.science\\\\/index.php\\\\/category\\\\/bez-kategorii\\\\/\\\\\" rel=\\\\\"category tag\\\\\">Bez kategorii<\\\\/a><\\\\/li><li class=\\\\\"meta date posted-on\\\\\"><time class=\\\\\"entry-date published\\\\\" datetime=\\\\\"2020-09-18T11:48:55+02:00\\\\\" content=\\\\\"2020-09-18\\\\\">18-09-2020<\\\\/time><time class=\\\\\"updated\\\\\" datetime=\\\\\"2020-09-18T11:52:17+02:00\\\\\">18-09-2020<\\\\/time><\\\\/li><\\\\/ul><div class=\\\\\"excerpt-wrap entry-summary\\\\\"><p>16 pa\\\\u017adziernika (pi\\\\u0105tek), odb\\\\u0119dzie si\\\\u0119 IV edycja konferencji Data Science Summit Post to informacja prasowa, a niniejszy blog oraz fanpage Dane i Analizy to patroni&hellip;&nbsp;<a href=\\\\\"https:\\\\/\\\\/blog.prokulski.science\\\\/index.php\\\\/2020\\\\/09\\\\/18\\\\/dssconf-2020\\\\/\\\\\" class=\\\\\"\\\\\" rel=\\\\\"bookmark\\\\\">Czytaj wi\\\\u0119cej &raquo;<span class=\\\\\"screen-reader-text\\\\\">Data Science Summit 2020<\\\\/span><\\\\/a><\\\\/p>\\\\n<\\\\/div><\\\\/div>\\\\t\\\\t<\\\\/div>\\\\n\\\\t<\\\\/div>\\\\n<\\\\/article>\\\\n<article id=\\\\\"post-2440\\\\\" class=\\\\\"post-2440 post type-post status-publish format-standard has-post-thumbnail hentry category-internet tag-analiza-danych tag-patronite layout-default col-12 nv-non-grid-article\\\\\">\\\\n\\\\t<div class=\\\\\"article-content-col\\\\\">\\\\n\\\\t\\\\t<div class=\\\\\"content\\\\\">\\\\n\\\\t\\\\t\\\\t<div class=\\\\\"nv-post-thumbnail-wrap\\\\\"><a href=\\\\\"https:\\\\/\\\\/blog.prokulski.science\\\\/index.php\\\\/2020\\\\/08\\\\/30\\\\/analiza-polskiego-crowdfoundingu-na-bazie-patronite-pl\\\\/\\\\\" rel=\\\\\"bookmark\\\\\" title=\\\\\"Analiza polskiego crowdfundingu na bazie Patronite.pl\\\\\"><img width=\\\\\"837\\\\\" height=\\\\\"620\\\\\" src=\\\\\"https:\\\\/\\\\/blog.prokulski.science\\\\/downloads\\\\/2020\\\\/08\\\\/patronite-logos-6-837x620.png\\\\\" class=\\\\\"attachment-neve-blog size-neve-blog wp-post-image\\\\\" alt=\\\\\"\\\\\" loading=\\\\\"lazy\\\\\" \\\\/><\\\\/a><\\\\/div><div class=\\\\\"non-grid-content default-layout-content\\\\\"><h2 class=\\\\\"blog-entry-title entry-title\\\\\"><a href=\\\\\"https:\\\\/\\\\/blog.prokulski.science\\\\/index.php\\\\/2020\\\\/08\\\\/30\\\\/analiza-polskiego-crowdfoundingu-na-bazie-patronite-pl\\\\/\\\\\" rel=\\\\\"bookmark\\\\\">Analiza polskiego crowdfundingu na bazie Patronite.pl<\\\\/a><\\\\/h2><ul class=\\\\\"nv-meta-list\\\\\"><li  class=\\\\\"meta author vcard\\\\\"><span class=\\\\\"author-name fn\\\\\">by <a href=\\\\\"https:\\\\/\\\\/blog.prokulski.science\\\\/index.php\\\\/author\\\\/ukasz\\\\/\\\\\" title=\\\\\"Posts by \\\\u0141ukasz\\\\\" rel=\\\\\"author\\\\\">\\\\u0141ukasz<\\\\/a><\\\\/span><\\\\/li><li class=\\\\\"meta category\\\\\"><a href=\\\\\"https:\\\\/\\\\/blog.prokulski.science\\\\/index.php\\\\/category\\\\/internet\\\\/\\\\\" rel=\\\\\"category tag\\\\\">Internet<\\\\/a><\\\\/li><li class=\\\\\"meta date posted-on\\\\\"><time class=\\\\\"entry-date published\\\\\" datetime=\\\\\"2020-08-30T15:45:49+02:00\\\\\" content=\\\\\"2020-08-30\\\\\">30-08-2020<\\\\/time><time class=\\\\\"updated\\\\\" datetime=\\\\\"2020-10-05T11:09:38+02:00\\\\\">05-10-2020<\\\\/time><\\\\/li><li class=\\\\\"meta comments\\\\\"><a href=\\\\\"https:\\\\/\\\\/blog.prokulski.science\\\\/index.php\\\\/2020\\\\/08\\\\/30\\\\/analiza-polskiego-crowdfoundingu-na-bazie-patronite-pl\\\\/#comments\\\\\">5 Komentarzy<\\\\/a><\\\\/li><\\\\/ul><div class=\\\\\"excerpt-wrap entry-summary\\\\\">\\\\r\\\\n<p>Zebra\\\\u0142em informacje o ponad 1700 profilach na Patronite.pl &#8211; wiem ile zarabiaj\\\\u0105, ilu maj\\\\u0105 patron\\\\u00f3w i za co patroni p\\\\u0142ac\\\\u0105. Dziel\\\\u0119 si\\\\u0119 tymi informacjami z Wami w &#8211; by\\\\u0107 mo\\\\u017ce &#8211; <strong>najwi\\\\u0119kszej analizie polskiego crowdfoundingu!<\\\\/strong><\\\\/p>\\\\r\\\\n<p><a href=\\\\\"https:\\\\/\\\\/blog.prokulski.science\\\\/index.php\\\\/2020\\\\/08\\\\/30\\\\/analiza-polskiego-crowdfoundingu-na-bazie-patronite-pl\\\\/\\\\\" class=\\\\\"\\\\\" rel=\\\\\"bookmark\\\\\">Czytaj wi\\\\u0119cej &raquo;<span class=\\\\\"screen-reader-text\\\\\">Analiza polskiego crowdfundingu na bazie Patronite.pl<\\\\/span><\\\\/a><\\\\/p><\\\\/div><\\\\/div>\\\\t\\\\t<\\\\/div>\\\\n\\\\t<\\\\/div>\\\\n<\\\\/article>\\\\n<article id=\\\\\"post-2412\\\\\" class=\\\\\"post-2412 post type-post status-publish format-standard has-post-thumbnail hentry category-bez-kategorii tag-ai tag-konferencja tag-nlp tag-partner-medialny layout-default col-12 nv-non-grid-article\\\\\">\\\\n\\\\t<div class=\\\\\"article-content-col\\\\\">\\\\n\\\\t\\\\t<div class=\\\\\"content\\\\\">\\\\n\\\\t\\\\t\\\\t<div class=\\\\\"nv-post-thumbnail-wrap\\\\\"><a href=\\\\\"https:\\\\/\\\\/blog.prokulski.science\\\\/index.php\\\\/2020\\\\/08\\\\/21\\\\/ai-nlp-day-2020\\\\/\\\\\" rel=\\\\\"bookmark\\\\\" title=\\\\\"AI &#038; NLP Day 2020\\\\\"><img width=\\\\\"930\\\\\" height=\\\\\"620\\\\\" src=\\\\\"https:\\\\/\\\\/blog.prokulski.science\\\\/downloads\\\\/2020\\\\/08\\\\/NLPDAY_b-930x620.png\\\\\" class=\\\\\"attachment-neve-blog size-neve-blog wp-post-image\\\\\" alt=\\\\\"\\\\\" loading=\\\\\"lazy\\\\\" \\\\/><\\\\/a><\\\\/div><div class=\\\\\"non-grid-content default-layout-content\\\\\"><h2 class=\\\\\"blog-entry-title entry-title\\\\\"><a href=\\\\\"https:\\\\/\\\\/blog.prokulski.science\\\\/index.php\\\\/2020\\\\/08\\\\/21\\\\/ai-nlp-day-2020\\\\/\\\\\" rel=\\\\\"bookmark\\\\\">AI &#038; NLP Day 2020<\\\\/a><\\\\/h2><ul class=\\\\\"nv-meta-list\\\\\"><li  class=\\\\\"meta author vcard\\\\\"><span class=\\\\\"author-name fn\\\\\">by <a href=\\\\\"https:\\\\/\\\\/blog.prokulski.science\\\\/index.php\\\\/author\\\\/ukasz\\\\/\\\\\" title=\\\\\"Posts by \\\\u0141ukasz\\\\\" rel=\\\\\"author\\\\\">\\\\u0141ukasz<\\\\/a><\\\\/span><\\\\/li><li class=\\\\\"meta category\\\\\"><a href=\\\\\"https:\\\\/\\\\/blog.prokulski.science\\\\/index.php\\\\/category\\\\/bez-kategorii\\\\/\\\\\" rel=\\\\\"category tag\\\\\">Bez kategorii<\\\\/a><\\\\/li><li class=\\\\\"meta date posted-on\\\\\"><time class=\\\\\"entry-date published\\\\\" datetime=\\\\\"2020-08-21T09:00:00+02:00\\\\\" content=\\\\\"2020-08-21\\\\\">21-08-2020<\\\\/time><time class=\\\\\"updated\\\\\" datetime=\\\\\"2020-09-18T11:54:44+02:00\\\\\">18-09-2020<\\\\/time><\\\\/li><\\\\/ul><div class=\\\\\"excerpt-wrap entry-summary\\\\\"><p>Do 2025 r. Polska b\\\\u0119dzie potrzebowa\\\\u0107 ok. 200 tys. specjalist\\\\u00f3w zajmuj\\\\u0105cych si\\\\u0119 sztuczn\\\\u0105 inteligencj\\\\u0105 &#8211; wynika z danych ostatniej, si\\\\u00f3dmej edycji raportu Monitoring trend\\\\u00f3w w&hellip;&nbsp;<a href=\\\\\"https:\\\\/\\\\/blog.prokulski.science\\\\/index.php\\\\/2020\\\\/08\\\\/21\\\\/ai-nlp-day-2020\\\\/\\\\\" class=\\\\\"\\\\\" rel=\\\\\"bookmark\\\\\">Czytaj wi\\\\u0119cej &raquo;<span class=\\\\\"screen-reader-text\\\\\">AI &#038; NLP Day 2020<\\\\/span><\\\\/a><\\\\/p>\\\\n<\\\\/div><\\\\/div>\\\\t\\\\t<\\\\/div>\\\\n\\\\t<\\\\/div>\\\\n<\\\\/article>\\\\n<article id=\\\\\"post-2407\\\\\" class=\\\\\"post-2407 post type-post status-publish format-standard has-post-thumbnail hentry category-pozostale tag-ksiazki layout-default col-12 nv-non-grid-article\\\\\">\\\\n\\\\t<div class=\\\\\"article-content-col\\\\\">\\\\n\\\\t\\\\t<div class=\\\\\"content\\\\\">\\\\n\\\\t\\\\t\\\\t<div class=\\\\\"nv-post-thumbnail-wrap\\\\\"><a href=\\\\\"https:\\\\/\\\\/blog.prokulski.science\\\\/index.php\\\\/2020\\\\/07\\\\/26\\\\/statystycznie-rzecz-biorac-recenzja\\\\/\\\\\" rel=\\\\\"bookmark\\\\\" title=\\\\\"Ile trzeba zje\\\\u015b\\\\u0107 czekolady \\\\u017ceby dosta\\\\u0107 Nobla?\\\\\"><img width=\\\\\"801\\\\\" height=\\\\\"620\\\\\" src=\\\\\"https:\\\\/\\\\/blog.prokulski.science\\\\/downloads\\\\/2020\\\\/07\\\\/statystycznie-rzecz-biorac-801x620.jpg\\\\\" class=\\\\\"attachment-neve-blog size-neve-blog wp-post-image\\\\\" alt=\\\\\"\\\\\" loading=\\\\\"lazy\\\\\" \\\\/><\\\\/a><\\\\/div><div class=\\\\\"non-grid-content default-layout-content\\\\\"><h2 class=\\\\\"blog-entry-title entry-title\\\\\"><a href=\\\\\"https:\\\\/\\\\/blog.prokulski.science\\\\/index.php\\\\/2020\\\\/07\\\\/26\\\\/statystycznie-rzecz-biorac-recenzja\\\\/\\\\\" rel=\\\\\"bookmark\\\\\">Ile trzeba zje\\\\u015b\\\\u0107 czekolady \\\\u017ceby dosta\\\\u0107 Nobla?<\\\\/a><\\\\/h2><ul class=\\\\\"nv-meta-list\\\\\"><li  class=\\\\\"meta author vcard\\\\\"><span class=\\\\\"author-name fn\\\\\">by <a href=\\\\\"https:\\\\/\\\\/blog.prokulski.science\\\\/index.php\\\\/author\\\\/ukasz\\\\/\\\\\" title=\\\\\"Posts by \\\\u0141ukasz\\\\\" rel=\\\\\"author\\\\\">\\\\u0141ukasz<\\\\/a><\\\\/span><\\\\/li><li class=\\\\\"meta category\\\\\"><a href=\\\\\"https:\\\\/\\\\/blog.prokulski.science\\\\/index.php\\\\/category\\\\/pozostale\\\\/\\\\\" rel=\\\\\"category tag\\\\\">Pozosta\\\\u0142e<\\\\/a><\\\\/li><li class=\\\\\"meta date posted-on\\\\\"><time class=\\\\\"entry-date published\\\\\" datetime=\\\\\"2020-07-26T15:10:00+02:00\\\\\" content=\\\\\"2020-07-26\\\\\">26-07-2020<\\\\/time><time class=\\\\\"updated\\\\\" datetime=\\\\\"2020-07-21T15:11:31+02:00\\\\\">21-07-2020<\\\\/time><\\\\/li><li class=\\\\\"meta comments\\\\\"><a href=\\\\\"https:\\\\/\\\\/blog.prokulski.science\\\\/index.php\\\\/2020\\\\/07\\\\/26\\\\/statystycznie-rzecz-biorac-recenzja\\\\/#comments\\\\\">11 Komentarzy<\\\\/a><\\\\/li><\\\\/ul><div class=\\\\\"excerpt-wrap entry-summary\\\\\">\\\\n<p>Znacie to pytanie? Wiecie sk\\\\u0105d pochodzi? To poznajcie jeszcze moje zdanie!<\\\\/p>\\\\n<a href=\\\\\"https:\\\\/\\\\/blog.prokulski.science\\\\/index.php\\\\/2020\\\\/07\\\\/26\\\\/statystycznie-rzecz-biorac-recenzja\\\\/\\\\\" class=\\\\\"\\\\\" rel=\\\\\"bookmark\\\\\">Czytaj wi\\\\u0119cej &raquo;<span class=\\\\\"screen-reader-text\\\\\">Ile trzeba zje\\\\u015b\\\\u0107 czekolady \\\\u017ceby dosta\\\\u0107 Nobla?<\\\\/span><\\\\/a><\\\\/div><\\\\/div>\\\\t\\\\t<\\\\/div>\\\\n\\\\t<\\\\/div>\\\\n<\\\\/article>\\\\n\"',\n b'\"<article id=\\\\\"post-2385\\\\\" class=\\\\\"post-2385 post type-post status-publish format-standard has-post-thumbnail hentry category-r tag-gus tag-polityka tag-wybory layout-default col-12 nv-non-grid-article\\\\\">\\\\n\\\\t<div class=\\\\\"article-content-col\\\\\">\\\\n\\\\t\\\\t<div class=\\\\\"content\\\\\">\\\\n\\\\t\\\\t\\\\t<div class=\\\\\"nv-post-thumbnail-wrap\\\\\"><a href=\\\\\"https:\\\\/\\\\/blog.prokulski.science\\\\/index.php\\\\/2020\\\\/07\\\\/19\\\\/wyniki-wyborow-prezydenckich-2020-cos-wiecej-niz-mapki\\\\/\\\\\" rel=\\\\\"bookmark\\\\\" title=\\\\\"Wyniki wybor\\\\u00f3w prezydenckich 2020 &#8211; co\\\\u015b wi\\\\u0119cej ni\\\\u017c mapki\\\\\"><img width=\\\\\"930\\\\\" height=\\\\\"620\\\\\" src=\\\\\"https:\\\\/\\\\/blog.prokulski.science\\\\/downloads\\\\/2020\\\\/07\\\\/wybory2020_03-1-930x620.png\\\\\" class=\\\\\"attachment-neve-blog size-neve-blog wp-post-image\\\\\" alt=\\\\\"\\\\\" loading=\\\\\"lazy\\\\\" \\\\/><\\\\/a><\\\\/div><div class=\\\\\"non-grid-content default-layout-content\\\\\"><h2 class=\\\\\"blog-entry-title entry-title\\\\\"><a href=\\\\\"https:\\\\/\\\\/blog.prokulski.science\\\\/index.php\\\\/2020\\\\/07\\\\/19\\\\/wyniki-wyborow-prezydenckich-2020-cos-wiecej-niz-mapki\\\\/\\\\\" rel=\\\\\"bookmark\\\\\">Wyniki wybor\\\\u00f3w prezydenckich 2020 &#8211; co\\\\u015b wi\\\\u0119cej ni\\\\u017c mapki<\\\\/a><\\\\/h2><ul class=\\\\\"nv-meta-list\\\\\"><li  class=\\\\\"meta author vcard\\\\\"><span class=\\\\\"author-name fn\\\\\">by <a href=\\\\\"https:\\\\/\\\\/blog.prokulski.science\\\\/index.php\\\\/author\\\\/ukasz\\\\/\\\\\" title=\\\\\"Posts by \\\\u0141ukasz\\\\\" rel=\\\\\"author\\\\\">\\\\u0141ukasz<\\\\/a><\\\\/span><\\\\/li><li class=\\\\\"meta category\\\\\"><a href=\\\\\"https:\\\\/\\\\/blog.prokulski.science\\\\/index.php\\\\/category\\\\/r\\\\/\\\\\" rel=\\\\\"category tag\\\\\">R<\\\\/a><\\\\/li><li class=\\\\\"meta date posted-on\\\\\"><time class=\\\\\"entry-date published\\\\\" datetime=\\\\\"2020-07-19T21:51:41+02:00\\\\\" content=\\\\\"2020-07-19\\\\\">19-07-2020<\\\\/time><time class=\\\\\"updated\\\\\" datetime=\\\\\"2020-07-19T21:51:43+02:00\\\\\">19-07-2020<\\\\/time><\\\\/li><li class=\\\\\"meta comments\\\\\"><a href=\\\\\"https:\\\\/\\\\/blog.prokulski.science\\\\/index.php\\\\/2020\\\\/07\\\\/19\\\\/wyniki-wyborow-prezydenckich-2020-cos-wiecej-niz-mapki\\\\/#comments\\\\\">3 Komentarze<\\\\/a><\\\\/li><\\\\/ul><div class=\\\\\"excerpt-wrap entry-summary\\\\\">\\\\n<p>Wybrali\\\\u015bmy nowego prezydenta Polski. Jak zwykle internet zala\\\\u0142a seria mapek z wynikami. Ale czy mapki to wszystko co mo\\\\u017cna wyci\\\\u0105gn\\\\u0105\\\\u0107?<\\\\/p>\\\\n<a href=\\\\\"https:\\\\/\\\\/blog.prokulski.science\\\\/index.php\\\\/2020\\\\/07\\\\/19\\\\/wyniki-wyborow-prezydenckich-2020-cos-wiecej-niz-mapki\\\\/\\\\\" class=\\\\\"\\\\\" rel=\\\\\"bookmark\\\\\">Czytaj wi\\\\u0119cej &raquo;<span class=\\\\\"screen-reader-text\\\\\">Wyniki wybor\\\\u00f3w prezydenckich 2020 &#8211; co\\\\u015b wi\\\\u0119cej ni\\\\u017c mapki<\\\\/span><\\\\/a><\\\\/div><\\\\/div>\\\\t\\\\t<\\\\/div>\\\\n\\\\t<\\\\/div>\\\\n<\\\\/article>\\\\n<article id=\\\\\"post-2376\\\\\" class=\\\\\"post-2376 post type-post status-publish format-standard hentry category-bez-kategorii layout-default col-12 nv-non-grid-article\\\\\">\\\\n\\\\t<div class=\\\\\"article-content-col\\\\\">\\\\n\\\\t\\\\t<div class=\\\\\"content\\\\\">\\\\n\\\\t\\\\t\\\\t<div class=\\\\\"non-grid-content default-layout-content\\\\\"><h2 class=\\\\\"blog-entry-title entry-title\\\\\"><a href=\\\\\"https:\\\\/\\\\/blog.prokulski.science\\\\/index.php\\\\/2020\\\\/07\\\\/11\\\\/promocja-na-ksiazki\\\\/\\\\\" rel=\\\\\"bookmark\\\\\">Promocja na ksi\\\\u0105\\\\u017cki<\\\\/a><\\\\/h2><ul class=\\\\\"nv-meta-list\\\\\"><li  class=\\\\\"meta author vcard\\\\\"><span class=\\\\\"author-name fn\\\\\">by <a href=\\\\\"https:\\\\/\\\\/blog.prokulski.science\\\\/index.php\\\\/author\\\\/ukasz\\\\/\\\\\" title=\\\\\"Posts by \\\\u0141ukasz\\\\\" rel=\\\\\"author\\\\\">\\\\u0141ukasz<\\\\/a><\\\\/span><\\\\/li><li class=\\\\\"meta category\\\\\"><a href=\\\\\"https:\\\\/\\\\/blog.prokulski.science\\\\/index.php\\\\/category\\\\/bez-kategorii\\\\/\\\\\" rel=\\\\\"category tag\\\\\">Bez kategorii<\\\\/a><\\\\/li><li class=\\\\\"meta date posted-on\\\\\"><time class=\\\\\"entry-date published\\\\\" datetime=\\\\\"2020-07-11T10:03:15+02:00\\\\\" content=\\\\\"2020-07-11\\\\\">11-07-2020<\\\\/time><time class=\\\\\"updated\\\\\" datetime=\\\\\"2020-07-11T12:33:27+02:00\\\\\">11-07-2020<\\\\/time><\\\\/li><\\\\/ul><div class=\\\\\"excerpt-wrap entry-summary\\\\\">\\\\n<p>Jeszcze tylko do poniedzia\\\\u0142ku 13.07 <strong><a href=\\\\\"https:\\\\/\\\\/helion.pl\\\\/page\\\\/14029A\\\\/promocja\\\\/8850\\\\\">promka wakacyjna<\\\\/a><\\\\/strong> w Helionie, \\\\u0142apcie p\\\\u00f3ki s\\\\u0105 porz\\\\u0105dne rabaty!<\\\\/p>\\\\n<a href=\\\\\"https:\\\\/\\\\/blog.prokulski.science\\\\/index.php\\\\/2020\\\\/07\\\\/11\\\\/promocja-na-ksiazki\\\\/\\\\\" class=\\\\\"\\\\\" rel=\\\\\"bookmark\\\\\">Czytaj wi\\\\u0119cej &raquo;<span class=\\\\\"screen-reader-text\\\\\">Promocja na ksi\\\\u0105\\\\u017cki<\\\\/span><\\\\/a><\\\\/div><\\\\/div>\\\\t\\\\t<\\\\/div>\\\\n\\\\t<\\\\/div>\\\\n<\\\\/article>\\\\n<article id=\\\\\"post-2364\\\\\" class=\\\\\"post-2364 post type-post status-publish format-standard hentry category-python category-r tag-api layout-default col-12 nv-non-grid-article\\\\\">\\\\n\\\\t<div class=\\\\\"article-content-col\\\\\">\\\\n\\\\t\\\\t<div class=\\\\\"content\\\\\">\\\\n\\\\t\\\\t\\\\t<div class=\\\\\"non-grid-content default-layout-content\\\\\"><h2 class=\\\\\"blog-entry-title entry-title\\\\\"><a href=\\\\\"https:\\\\/\\\\/blog.prokulski.science\\\\/index.php\\\\/2020\\\\/06\\\\/05\\\\/api-python-api-r\\\\/\\\\\" rel=\\\\\"bookmark\\\\\">Kt\\\\u00f3re API szybsze &#8211; w Pythonie czy w R?<\\\\/a><\\\\/h2><ul class=\\\\\"nv-meta-list\\\\\"><li  class=\\\\\"meta author vcard\\\\\"><span class=\\\\\"author-name fn\\\\\">by <a href=\\\\\"https:\\\\/\\\\/blog.prokulski.science\\\\/index.php\\\\/author\\\\/ukasz\\\\/\\\\\" title=\\\\\"Posts by \\\\u0141ukasz\\\\\" rel=\\\\\"author\\\\\">\\\\u0141ukasz<\\\\/a><\\\\/span><\\\\/li><li class=\\\\\"meta category\\\\\"><a href=\\\\\"https:\\\\/\\\\/blog.prokulski.science\\\\/index.php\\\\/category\\\\/python\\\\/\\\\\" rel=\\\\\"category tag\\\\\">Python<\\\\/a>, <a href=\\\\\"https:\\\\/\\\\/blog.prokulski.science\\\\/index.php\\\\/category\\\\/r\\\\/\\\\\" rel=\\\\\"category tag\\\\\">R<\\\\/a><\\\\/li><li class=\\\\\"meta date posted-on\\\\\"><time class=\\\\\"entry-date published\\\\\" datetime=\\\\\"2020-06-05T15:48:33+02:00\\\\\" content=\\\\\"2020-06-05\\\\\">05-06-2020<\\\\/time><time class=\\\\\"updated\\\\\" datetime=\\\\\"2020-06-05T15:48:35+02:00\\\\\">05-06-2020<\\\\/time><\\\\/li><li class=\\\\\"meta comments\\\\\"><a href=\\\\\"https:\\\\/\\\\/blog.prokulski.science\\\\/index.php\\\\/2020\\\\/06\\\\/05\\\\/api-python-api-r\\\\/#comments\\\\\">4 Komentarze<\\\\/a><\\\\/li><\\\\/ul><div class=\\\\\"excerpt-wrap entry-summary\\\\\">\\\\n<p>Wiele razy czyta\\\\u0142em opinie, \\\\u017ce Python jest szybszy a R nie nadaje si\\\\u0119 na produkcj\\\\u0119. Ale to opinie nie potwierdzone badaniami. Tutaj pierwsze badania na ten temat!<\\\\/p>\\\\n<a href=\\\\\"https:\\\\/\\\\/blog.prokulski.science\\\\/index.php\\\\/2020\\\\/06\\\\/05\\\\/api-python-api-r\\\\/\\\\\" class=\\\\\"\\\\\" rel=\\\\\"bookmark\\\\\">Czytaj wi\\\\u0119cej &raquo;<span class=\\\\\"screen-reader-text\\\\\">Kt\\\\u00f3re API szybsze &#8211; w Pythonie czy w R?<\\\\/span><\\\\/a><\\\\/div><\\\\/div>\\\\t\\\\t<\\\\/div>\\\\n\\\\t<\\\\/div>\\\\n<\\\\/article>\\\\n<article id=\\\\\"post-2354\\\\\" class=\\\\\"post-2354 post type-post status-publish format-standard has-post-thumbnail hentry category-python tag-big-data tag-hadoop tag-hdfs tag-pyspark tag-python tag-spark layout-default col-12 nv-non-grid-article\\\\\">\\\\n\\\\t<div class=\\\\\"article-content-col\\\\\">\\\\n\\\\t\\\\t<div class=\\\\\"content\\\\\">\\\\n\\\\t\\\\t\\\\t<div class=\\\\\"nv-post-thumbnail-wrap\\\\\"><a href=\\\\\"https:\\\\/\\\\/blog.prokulski.science\\\\/index.php\\\\/2020\\\\/04\\\\/09\\\\/spark-hadoop-hdfs\\\\/\\\\\" rel=\\\\\"bookmark\\\\\" title=\\\\\"(py)Spark, Hadoop i HDFS &#8211; podstawy\\\\\"><img width=\\\\\"580\\\\\" height=\\\\\"358\\\\\" src=\\\\\"https:\\\\/\\\\/blog.prokulski.science\\\\/downloads\\\\/2020\\\\/04\\\\/spark.png\\\\\" class=\\\\\"attachment-neve-blog size-neve-blog wp-post-image\\\\\" alt=\\\\\"\\\\\" loading=\\\\\"lazy\\\\\" srcset=\\\\\"https:\\\\/\\\\/blog.prokulski.science\\\\/downloads\\\\/2020\\\\/04\\\\/spark.png 580w, https:\\\\/\\\\/blog.prokulski.science\\\\/downloads\\\\/2020\\\\/04\\\\/spark-300x185.png 300w\\\\\" sizes=\\\\\"(max-width: 580px) 100vw, 580px\\\\\" \\\\/><\\\\/a><\\\\/div><div class=\\\\\"non-grid-content default-layout-content\\\\\"><h2 class=\\\\\"blog-entry-title entry-title\\\\\"><a href=\\\\\"https:\\\\/\\\\/blog.prokulski.science\\\\/index.php\\\\/2020\\\\/04\\\\/09\\\\/spark-hadoop-hdfs\\\\/\\\\\" rel=\\\\\"bookmark\\\\\">(py)Spark, Hadoop i HDFS &#8211; podstawy<\\\\/a><\\\\/h2><ul class=\\\\\"nv-meta-list\\\\\"><li  class=\\\\\"meta author vcard\\\\\"><span class=\\\\\"author-name fn\\\\\">by <a href=\\\\\"https:\\\\/\\\\/blog.prokulski.science\\\\/index.php\\\\/author\\\\/ukasz\\\\/\\\\\" title=\\\\\"Posts by \\\\u0141ukasz\\\\\" rel=\\\\\"author\\\\\">\\\\u0141ukasz<\\\\/a><\\\\/span><\\\\/li><li class=\\\\\"meta category\\\\\"><a href=\\\\\"https:\\\\/\\\\/blog.prokulski.science\\\\/index.php\\\\/category\\\\/python\\\\/\\\\\" rel=\\\\\"category tag\\\\\">Python<\\\\/a><\\\\/li><li class=\\\\\"meta date posted-on\\\\\"><time class=\\\\\"entry-date published\\\\\" datetime=\\\\\"2020-04-09T19:06:13+02:00\\\\\" content=\\\\\"2020-04-09\\\\\">09-04-2020<\\\\/time><time class=\\\\\"updated\\\\\" datetime=\\\\\"2020-04-09T19:06:14+02:00\\\\\">09-04-2020<\\\\/time><\\\\/li><li class=\\\\\"meta comments\\\\\"><a href=\\\\\"https:\\\\/\\\\/blog.prokulski.science\\\\/index.php\\\\/2020\\\\/04\\\\/09\\\\/spark-hadoop-hdfs\\\\/#comments\\\\\">2 Komentarze<\\\\/a><\\\\/li><\\\\/ul><div class=\\\\\"excerpt-wrap entry-summary\\\\\">\\\\n<p>Dzisiaj zajmiemy si\\\\u0119 wykorzystaniem Sparka i Hadoopa do przetwarzania wi\\\\u0119kszej ilo\\\\u015bci danych. Oraz do budowania prostego modelu (regresji liniowej). Mo\\\\u017ce jeszcze nie jest to big data, ale mechanizmy s\\\\u0105 identyczne jak w przypadku wi\\\\u0119kszej liczby danych. Wystarczy tylko tych danych wi\\\\u0119cej zgromadzi\\\\u0107, zbudowa\\\\u0107 wi\\\\u0119ksze \\\\u015brodowisko (du\\\\u017co serwer\\\\u00f3w) i\\\\u2026 te\\\\u017c b\\\\u0119dzie dzia\\\\u0142a\\\\u0142o.<\\\\/p>\\\\n<p>A w dodatku poznamy pakiet <em>faker<\\\\/em> kt\\\\u00f3ry pozwoli nam na wygenerowanie sztucznych danych.<\\\\/p>\\\\n\\\\n<a href=\\\\\"https:\\\\/\\\\/blog.prokulski.science\\\\/index.php\\\\/2020\\\\/04\\\\/09\\\\/spark-hadoop-hdfs\\\\/\\\\\" class=\\\\\"\\\\\" rel=\\\\\"bookmark\\\\\">Czytaj wi\\\\u0119cej &raquo;<span class=\\\\\"screen-reader-text\\\\\">(py)Spark, Hadoop i HDFS &#8211; podstawy<\\\\/span><\\\\/a><\\\\/div><\\\\/div>\\\\t\\\\t<\\\\/div>\\\\n\\\\t<\\\\/div>\\\\n<\\\\/article>\\\\n<article id=\\\\\"post-2343\\\\\" class=\\\\\"post-2343 post type-post status-publish format-standard has-post-thumbnail hentry category-muzyka category-python tag-klasyfikacja tag-muzyka tag-spotify layout-default col-12 nv-non-grid-article\\\\\">\\\\n\\\\t<div class=\\\\\"article-content-col\\\\\">\\\\n\\\\t\\\\t<div class=\\\\\"content\\\\\">\\\\n\\\\t\\\\t\\\\t<div class=\\\\\"nv-post-thumbnail-wrap\\\\\"><a href=\\\\\"https:\\\\/\\\\/blog.prokulski.science\\\\/index.php\\\\/2020\\\\/03\\\\/24\\\\/muzyka-i-data-science\\\\/\\\\\" rel=\\\\\"bookmark\\\\\" title=\\\\\"Muzyka i data science\\\\\"><img width=\\\\\"930\\\\\" height=\\\\\"620\\\\\" src=\\\\\"https:\\\\/\\\\/blog.prokulski.science\\\\/downloads\\\\/2020\\\\/03\\\\/franck-v-U3sOwViXhkY-unsplash-930x620.jpg\\\\\" class=\\\\\"attachment-neve-blog size-neve-blog wp-post-image\\\\\" alt=\\\\\"\\\\\" loading=\\\\\"lazy\\\\\" \\\\/><\\\\/a><\\\\/div><div class=\\\\\"non-grid-content default-layout-content\\\\\"><h2 class=\\\\\"blog-entry-title entry-title\\\\\"><a href=\\\\\"https:\\\\/\\\\/blog.prokulski.science\\\\/index.php\\\\/2020\\\\/03\\\\/24\\\\/muzyka-i-data-science\\\\/\\\\\" rel=\\\\\"bookmark\\\\\">Muzyka i data science<\\\\/a><\\\\/h2><ul class=\\\\\"nv-meta-list\\\\\"><li  class=\\\\\"meta author vcard\\\\\"><span class=\\\\\"author-name fn\\\\\">by <a href=\\\\\"https:\\\\/\\\\/blog.prokulski.science\\\\/index.php\\\\/author\\\\/ukasz\\\\/\\\\\" title=\\\\\"Posts by \\\\u0141ukasz\\\\\" rel=\\\\\"author\\\\\">\\\\u0141ukasz<\\\\/a><\\\\/span><\\\\/li><li class=\\\\\"meta category\\\\\"><a href=\\\\\"https:\\\\/\\\\/blog.prokulski.science\\\\/index.php\\\\/category\\\\/muzyka\\\\/\\\\\" rel=\\\\\"category tag\\\\\">Muzyka<\\\\/a>, <a href=\\\\\"https:\\\\/\\\\/blog.prokulski.science\\\\/index.php\\\\/category\\\\/python\\\\/\\\\\" rel=\\\\\"category tag\\\\\">Python<\\\\/a><\\\\/li><li class=\\\\\"meta date posted-on\\\\\"><time class=\\\\\"entry-date published\\\\\" datetime=\\\\\"2020-03-24T17:11:08+02:00\\\\\" content=\\\\\"2020-03-24\\\\\">24-03-2020<\\\\/time><time class=\\\\\"updated\\\\\" datetime=\\\\\"2020-03-24T17:18:38+02:00\\\\\">24-03-2020<\\\\/time><\\\\/li><\\\\/ul><div class=\\\\\"excerpt-wrap entry-summary\\\\\">\\\\n<p>Ka\\\\u017cdego dnia pojawia si\\\\u0119 nowa muzyka, w wielu r\\\\u00f3\\\\u017cnych gatunkach. Jak wybra\\\\u0107 to, czemu warto po\\\\u015bwi\\\\u0119ci\\\\u0107 czas?<\\\\/p>\\\\n<p>Dodatkowo dowiemy si\\\\u0119 jakie znaczenie ma uczciwe przygotowanie danych.<\\\\/p>\\\\n<a href=\\\\\"https:\\\\/\\\\/blog.prokulski.science\\\\/index.php\\\\/2020\\\\/03\\\\/24\\\\/muzyka-i-data-science\\\\/\\\\\" class=\\\\\"\\\\\" rel=\\\\\"bookmark\\\\\">Czytaj wi\\\\u0119cej &raquo;<span class=\\\\\"screen-reader-text\\\\\">Muzyka i data science<\\\\/span><\\\\/a><\\\\/div><\\\\/div>\\\\t\\\\t<\\\\/div>\\\\n\\\\t<\\\\/div>\\\\n<\\\\/article>\\\\n<article id=\\\\\"post-2335\\\\\" class=\\\\\"post-2335 post type-post status-publish format-standard has-post-thumbnail hentry category-python tag-bezrobocie tag-folium tag-geojson tag-mapa tag-matplotlib layout-default col-12 nv-non-grid-article\\\\\">\\\\n\\\\t<div class=\\\\\"article-content-col\\\\\">\\\\n\\\\t\\\\t<div class=\\\\\"content\\\\\">\\\\n\\\\t\\\\t\\\\t<div class=\\\\\"nv-post-thumbnail-wrap\\\\\"><a href=\\\\\"https:\\\\/\\\\/blog.prokulski.science\\\\/index.php\\\\/2020\\\\/02\\\\/28\\\\/mapy-w-pythonie\\\\/\\\\\" rel=\\\\\"bookmark\\\\\" title=\\\\\"Mapy w Pythonie\\\\\"><img width=\\\\\"576\\\\\" height=\\\\\"576\\\\\" src=\\\\\"https:\\\\/\\\\/blog.prokulski.science\\\\/downloads\\\\/2020\\\\/02\\\\/bezrobocie_woj_2.png\\\\\" class=\\\\\"attachment-neve-blog size-neve-blog wp-post-image\\\\\" alt=\\\\\"\\\\\" loading=\\\\\"lazy\\\\\" srcset=\\\\\"https:\\\\/\\\\/blog.prokulski.science\\\\/downloads\\\\/2020\\\\/02\\\\/bezrobocie_woj_2.png 576w, https:\\\\/\\\\/blog.prokulski.science\\\\/downloads\\\\/2020\\\\/02\\\\/bezrobocie_woj_2-300x300.png 300w, https:\\\\/\\\\/blog.prokulski.science\\\\/downloads\\\\/2020\\\\/02\\\\/bezrobocie_woj_2-150x150.png 150w\\\\\" sizes=\\\\\"(max-width: 576px) 100vw, 576px\\\\\" \\\\/><\\\\/a><\\\\/div><div class=\\\\\"non-grid-content default-layout-content\\\\\"><h2 class=\\\\\"blog-entry-title entry-title\\\\\"><a href=\\\\\"https:\\\\/\\\\/blog.prokulski.science\\\\/index.php\\\\/2020\\\\/02\\\\/28\\\\/mapy-w-pythonie\\\\/\\\\\" rel=\\\\\"bookmark\\\\\">Mapy w Pythonie<\\\\/a><\\\\/h2><ul class=\\\\\"nv-meta-list\\\\\"><li  class=\\\\\"meta author vcard\\\\\"><span class=\\\\\"author-name fn\\\\\">by <a href=\\\\\"https:\\\\/\\\\/blog.prokulski.science\\\\/index.php\\\\/author\\\\/ukasz\\\\/\\\\\" title=\\\\\"Posts by \\\\u0141ukasz\\\\\" rel=\\\\\"author\\\\\">\\\\u0141ukasz<\\\\/a><\\\\/span><\\\\/li><li class=\\\\\"meta category\\\\\"><a href=\\\\\"https:\\\\/\\\\/blog.prokulski.science\\\\/index.php\\\\/category\\\\/python\\\\/\\\\\" rel=\\\\\"category tag\\\\\">Python<\\\\/a><\\\\/li><li class=\\\\\"meta date posted-on\\\\\"><time class=\\\\\"entry-date published\\\\\" datetime=\\\\\"2020-02-28T15:07:09+02:00\\\\\" content=\\\\\"2020-02-28\\\\\">28-02-2020<\\\\/time><time class=\\\\\"updated\\\\\" datetime=\\\\\"2020-02-28T15:07:10+02:00\\\\\">28-02-2020<\\\\/time><\\\\/li><li class=\\\\\"meta comments\\\\\"><a href=\\\\\"https:\\\\/\\\\/blog.prokulski.science\\\\/index.php\\\\/2020\\\\/02\\\\/28\\\\/mapy-w-pythonie\\\\/#comments\\\\\">2 Komentarze<\\\\/a><\\\\/li><\\\\/ul><div class=\\\\\"excerpt-wrap entry-summary\\\\\">\\\\n<p>Jaki\\\\u015b czas temu pokazywa\\\\u0142em jak w prosty spos\\\\u00f3b narysowa\\\\u0107 map\\\\u0119 w R. Dzisiaj powt\\\\u00f3rzymy zadanie dla Pythona.<\\\\/p>\\\\n<a href=\\\\\"https:\\\\/\\\\/blog.prokulski.science\\\\/index.php\\\\/2020\\\\/02\\\\/28\\\\/mapy-w-pythonie\\\\/\\\\\" class=\\\\\"\\\\\" rel=\\\\\"bookmark\\\\\">Czytaj wi\\\\u0119cej &raquo;<span class=\\\\\"screen-reader-text\\\\\">Mapy w Pythonie<\\\\/span><\\\\/a><\\\\/div><\\\\/div>\\\\t\\\\t<\\\\/div>\\\\n\\\\t<\\\\/div>\\\\n<\\\\/article>\\\\n<article id=\\\\\"post-2328\\\\\" class=\\\\\"post-2328 post type-post status-publish format-standard has-post-thumbnail hentry category-python tag-analiza-obrazow tag-film tag-open-cv tag-python layout-default col-12 nv-non-grid-article\\\\\">\\\\n\\\\t<div class=\\\\\"article-content-col\\\\\">\\\\n\\\\t\\\\t<div class=\\\\\"content\\\\\">\\\\n\\\\t\\\\t\\\\t<div class=\\\\\"nv-post-thumbnail-wrap\\\\\"><a href=\\\\\"https:\\\\/\\\\/blog.prokulski.science\\\\/index.php\\\\/2020\\\\/01\\\\/28\\\\/montaz-filmowy-w-pythonie\\\\/\\\\\" rel=\\\\\"bookmark\\\\\" title=\\\\\"Monta\\\\u017c filmowy w Pythonie?\\\\\"><img width=\\\\\"500\\\\\" height=\\\\\"575\\\\\" src=\\\\\"https:\\\\/\\\\/blog.prokulski.science\\\\/downloads\\\\/2020\\\\/01\\\\/dobry_zly_brzydki.jpg\\\\\" class=\\\\\"attachment-neve-blog size-neve-blog wp-post-image\\\\\" alt=\\\\\"\\\\\" loading=\\\\\"lazy\\\\\" srcset=\\\\\"https:\\\\/\\\\/blog.prokulski.science\\\\/downloads\\\\/2020\\\\/01\\\\/dobry_zly_brzydki.jpg 500w, https:\\\\/\\\\/blog.prokulski.science\\\\/downloads\\\\/2020\\\\/01\\\\/dobry_zly_brzydki-261x300.jpg 261w\\\\\" sizes=\\\\\"(max-width: 500px) 100vw, 500px\\\\\" \\\\/><\\\\/a><\\\\/div><div class=\\\\\"non-grid-content default-layout-content\\\\\"><h2 class=\\\\\"blog-entry-title entry-title\\\\\"><a href=\\\\\"https:\\\\/\\\\/blog.prokulski.science\\\\/index.php\\\\/2020\\\\/01\\\\/28\\\\/montaz-filmowy-w-pythonie\\\\/\\\\\" rel=\\\\\"bookmark\\\\\">Monta\\\\u017c filmowy w Pythonie?<\\\\/a><\\\\/h2><ul class=\\\\\"nv-meta-list\\\\\"><li  class=\\\\\"meta author vcard\\\\\"><span class=\\\\\"author-name fn\\\\\">by <a href=\\\\\"https:\\\\/\\\\/blog.prokulski.science\\\\/index.php\\\\/author\\\\/ukasz\\\\/\\\\\" title=\\\\\"Posts by \\\\u0141ukasz\\\\\" rel=\\\\\"author\\\\\">\\\\u0141ukasz<\\\\/a><\\\\/span><\\\\/li><li class=\\\\\"meta category\\\\\"><a href=\\\\\"https:\\\\/\\\\/blog.prokulski.science\\\\/index.php\\\\/category\\\\/python\\\\/\\\\\" rel=\\\\\"category tag\\\\\">Python<\\\\/a><\\\\/li><li class=\\\\\"meta date posted-on\\\\\"><time class=\\\\\"entry-date published\\\\\" datetime=\\\\\"2020-01-28T13:56:30+02:00\\\\\" content=\\\\\"2020-01-28\\\\\">28-01-2020<\\\\/time><time class=\\\\\"updated\\\\\" datetime=\\\\\"2020-01-28T13:56:32+02:00\\\\\">28-01-2020<\\\\/time><\\\\/li><li class=\\\\\"meta comments\\\\\"><a href=\\\\\"https:\\\\/\\\\/blog.prokulski.science\\\\/index.php\\\\/2020\\\\/01\\\\/28\\\\/montaz-filmowy-w-pythonie\\\\/#comments\\\\\">1 Komentarz<\\\\/a><\\\\/li><\\\\/ul><div class=\\\\\"excerpt-wrap entry-summary\\\\\">\\\\n<p>Czy da si\\\\u0119 automatycznie rozdzieli\\\\u0107 film na poszczeg\\\\u00f3lne uj\\\\u0119cia?<\\\\/p>\\\\n<a href=\\\\\"https:\\\\/\\\\/blog.prokulski.science\\\\/index.php\\\\/2020\\\\/01\\\\/28\\\\/montaz-filmowy-w-pythonie\\\\/\\\\\" class=\\\\\"\\\\\" rel=\\\\\"bookmark\\\\\">Czytaj wi\\\\u0119cej &raquo;<span class=\\\\\"screen-reader-text\\\\\">Monta\\\\u017c filmowy w Pythonie?<\\\\/span><\\\\/a><\\\\/div><\\\\/div>\\\\t\\\\t<\\\\/div>\\\\n\\\\t<\\\\/div>\\\\n<\\\\/article>\\\\n\"',\n b'\"<article id=\\\\\"post-2280\\\\\" class=\\\\\"post-2280 post type-post status-publish format-standard has-post-thumbnail hentry category-pozostale tag-analiza-danych tag-dane tag-podcast tag-wizualizacja-danych layout-default col-12 nv-non-grid-article\\\\\">\\\\n\\\\t<div class=\\\\\"article-content-col\\\\\">\\\\n\\\\t\\\\t<div class=\\\\\"content\\\\\">\\\\n\\\\t\\\\t\\\\t<div class=\\\\\"nv-post-thumbnail-wrap\\\\\"><a href=\\\\\"https:\\\\/\\\\/blog.prokulski.science\\\\/index.php\\\\/2020\\\\/01\\\\/06\\\\/biznes-mysli\\\\/\\\\\" rel=\\\\\"bookmark\\\\\" title=\\\\\"Wywiad dla podcastu &#8222;Biznes My\\\\u015bli&#8221;\\\\\"><img width=\\\\\"930\\\\\" height=\\\\\"524\\\\\" src=\\\\\"https:\\\\/\\\\/blog.prokulski.science\\\\/downloads\\\\/2020\\\\/01\\\\/BM73.jpg\\\\\" class=\\\\\"attachment-neve-blog size-neve-blog wp-post-image\\\\\" alt=\\\\\"\\\\\" loading=\\\\\"lazy\\\\\" srcset=\\\\\"https:\\\\/\\\\/blog.prokulski.science\\\\/downloads\\\\/2020\\\\/01\\\\/BM73.jpg 1000w, https:\\\\/\\\\/blog.prokulski.science\\\\/downloads\\\\/2020\\\\/01\\\\/BM73-300x169.jpg 300w, https:\\\\/\\\\/blog.prokulski.science\\\\/downloads\\\\/2020\\\\/01\\\\/BM73-768x432.jpg 768w\\\\\" sizes=\\\\\"(max-width: 930px) 100vw, 930px\\\\\" \\\\/><\\\\/a><\\\\/div><div class=\\\\\"non-grid-content default-layout-content\\\\\"><h2 class=\\\\\"blog-entry-title entry-title\\\\\"><a href=\\\\\"https:\\\\/\\\\/blog.prokulski.science\\\\/index.php\\\\/2020\\\\/01\\\\/06\\\\/biznes-mysli\\\\/\\\\\" rel=\\\\\"bookmark\\\\\">Wywiad dla podcastu &#8222;Biznes My\\\\u015bli&#8221;<\\\\/a><\\\\/h2><ul class=\\\\\"nv-meta-list\\\\\"><li  class=\\\\\"meta author vcard\\\\\"><span class=\\\\\"author-name fn\\\\\">by <a href=\\\\\"https:\\\\/\\\\/blog.prokulski.science\\\\/index.php\\\\/author\\\\/ukasz\\\\/\\\\\" title=\\\\\"Posts by \\\\u0141ukasz\\\\\" rel=\\\\\"author\\\\\">\\\\u0141ukasz<\\\\/a><\\\\/span><\\\\/li><li class=\\\\\"meta category\\\\\"><a href=\\\\\"https:\\\\/\\\\/blog.prokulski.science\\\\/index.php\\\\/category\\\\/pozostale\\\\/\\\\\" rel=\\\\\"category tag\\\\\">Pozosta\\\\u0142e<\\\\/a><\\\\/li><li class=\\\\\"meta date posted-on\\\\\"><time class=\\\\\"entry-date published\\\\\" datetime=\\\\\"2020-01-06T17:00:00+02:00\\\\\" content=\\\\\"2020-01-06\\\\\">06-01-2020<\\\\/time><time class=\\\\\"updated\\\\\" datetime=\\\\\"2020-01-06T18:12:51+02:00\\\\\">06-01-2020<\\\\/time><\\\\/li><\\\\/ul><div class=\\\\\"excerpt-wrap entry-summary\\\\\"><p>Tu\\\\u017c przed ko\\\\u0144cem roku mia\\\\u0142em przyjemno\\\\u015b\\\\u0107 porozmawia\\\\u0107 z Valdimirem na temat danych, ich analizy i wizualizacji.<\\\\/p>\\\\n<\\\\/div><\\\\/div>\\\\t\\\\t<\\\\/div>\\\\n\\\\t<\\\\/div>\\\\n<\\\\/article>\\\\n<article id=\\\\\"post-2271\\\\\" class=\\\\\"post-2271 post type-post status-publish format-standard hentry category-python tag-analiza-danych tag-finanse tag-karta-kredytowa tag-python tag-seaborn layout-default col-12 nv-non-grid-article\\\\\">\\\\n\\\\t<div class=\\\\\"article-content-col\\\\\">\\\\n\\\\t\\\\t<div class=\\\\\"content\\\\\">\\\\n\\\\t\\\\t\\\\t<div class=\\\\\"non-grid-content default-layout-content\\\\\"><h2 class=\\\\\"blog-entry-title entry-title\\\\\"><a href=\\\\\"https:\\\\/\\\\/blog.prokulski.science\\\\/index.php\\\\/2019\\\\/12\\\\/13\\\\/analiza-wyciagow-z-karty-kredytowej\\\\/\\\\\" rel=\\\\\"bookmark\\\\\">Analiza w\\\\u0142asnych finans\\\\u00f3w<\\\\/a><\\\\/h2><ul class=\\\\\"nv-meta-list\\\\\"><li  class=\\\\\"meta author vcard\\\\\"><span class=\\\\\"author-name fn\\\\\">by <a href=\\\\\"https:\\\\/\\\\/blog.prokulski.science\\\\/index.php\\\\/author\\\\/ukasz\\\\/\\\\\" title=\\\\\"Posts by \\\\u0141ukasz\\\\\" rel=\\\\\"author\\\\\">\\\\u0141ukasz<\\\\/a><\\\\/span><\\\\/li><li class=\\\\\"meta category\\\\\"><a href=\\\\\"https:\\\\/\\\\/blog.prokulski.science\\\\/index.php\\\\/category\\\\/python\\\\/\\\\\" rel=\\\\\"category tag\\\\\">Python<\\\\/a><\\\\/li><li class=\\\\\"meta date posted-on\\\\\"><time class=\\\\\"entry-date published\\\\\" datetime=\\\\\"2019-12-13T14:20:00+02:00\\\\\" content=\\\\\"2019-12-13\\\\\">13-12-2019<\\\\/time><time class=\\\\\"updated\\\\\" datetime=\\\\\"2019-12-13T16:18:26+02:00\\\\\">13-12-2019<\\\\/time><\\\\/li><li class=\\\\\"meta comments\\\\\"><a href=\\\\\"https:\\\\/\\\\/blog.prokulski.science\\\\/index.php\\\\/2019\\\\/12\\\\/13\\\\/analiza-wyciagow-z-karty-kredytowej\\\\/#comments\\\\\">3 Komentarze<\\\\/a><\\\\/li><\\\\/ul><div class=\\\\\"excerpt-wrap entry-summary\\\\\">\\\\n<p>Jak nauczy\\\\u0107 si\\\\u0119 analizy danych? Robi\\\\u0105c ma\\\\u0142e i du\\\\u017ce projekty.<\\\\/p>\\\\n<a href=\\\\\"https:\\\\/\\\\/blog.prokulski.science\\\\/index.php\\\\/2019\\\\/12\\\\/13\\\\/analiza-wyciagow-z-karty-kredytowej\\\\/\\\\\" class=\\\\\"\\\\\" rel=\\\\\"bookmark\\\\\">Czytaj wi\\\\u0119cej &raquo;<span class=\\\\\"screen-reader-text\\\\\">Analiza w\\\\u0142asnych finans\\\\u00f3w<\\\\/span><\\\\/a><\\\\/div><\\\\/div>\\\\t\\\\t<\\\\/div>\\\\n\\\\t<\\\\/div>\\\\n<\\\\/article>\\\\n<article id=\\\\\"post-2246\\\\\" class=\\\\\"post-2246 post type-post status-publish format-standard hentry category-python tag-analiza-danych tag-nfz tag-python layout-default col-12 nv-non-grid-article\\\\\">\\\\n\\\\t<div class=\\\\\"article-content-col\\\\\">\\\\n\\\\t\\\\t<div class=\\\\\"content\\\\\">\\\\n\\\\t\\\\t\\\\t<div class=\\\\\"non-grid-content default-layout-content\\\\\"><h2 class=\\\\\"blog-entry-title entry-title\\\\\"><a href=\\\\\"https:\\\\/\\\\/blog.prokulski.science\\\\/index.php\\\\/2019\\\\/11\\\\/15\\\\/udar-niedokrwienny-mozgu\\\\/\\\\\" rel=\\\\\"bookmark\\\\\">Analiza wyst\\\\u0105pienia udaru niedokrwiennego m\\\\u00f3zgu<\\\\/a><\\\\/h2><ul class=\\\\\"nv-meta-list\\\\\"><li  class=\\\\\"meta author vcard\\\\\"><span class=\\\\\"author-name fn\\\\\">by <a href=\\\\\"https:\\\\/\\\\/blog.prokulski.science\\\\/index.php\\\\/author\\\\/ukasz\\\\/\\\\\" title=\\\\\"Posts by \\\\u0141ukasz\\\\\" rel=\\\\\"author\\\\\">\\\\u0141ukasz<\\\\/a><\\\\/span><\\\\/li><li class=\\\\\"meta category\\\\\"><a href=\\\\\"https:\\\\/\\\\/blog.prokulski.science\\\\/index.php\\\\/category\\\\/python\\\\/\\\\\" rel=\\\\\"category tag\\\\\">Python<\\\\/a><\\\\/li><li class=\\\\\"meta date posted-on\\\\\"><time class=\\\\\"entry-date published\\\\\" datetime=\\\\\"2019-11-15T16:52:10+02:00\\\\\" content=\\\\\"2019-11-15\\\\\">15-11-2019<\\\\/time><time class=\\\\\"updated\\\\\" datetime=\\\\\"2019-11-15T16:52:12+02:00\\\\\">15-11-2019<\\\\/time><\\\\/li><li class=\\\\\"meta comments\\\\\"><a href=\\\\\"https:\\\\/\\\\/blog.prokulski.science\\\\/index.php\\\\/2019\\\\/11\\\\/15\\\\/udar-niedokrwienny-mozgu\\\\/#comments\\\\\">1 Komentarz<\\\\/a><\\\\/li><\\\\/ul><div class=\\\\\"excerpt-wrap entry-summary\\\\\">\\\\nZanonimizowana pr\\\\u00f3bka danych NFZ dotycz\\\\u0105ca wyst\\\\u0105pienia udaru niedokrwiennego m\\\\u00f3zgu  \\\\n\\\\nNFZ opublikowa\\\\u0142 dane, zobaczmy czy co\\\\u015b ciekawego z nich mo\\\\u017cna wyci\\\\u0105gn\\\\u0105\\\\u0107?\\\\n<a href=\\\\\"https:\\\\/\\\\/blog.prokulski.science\\\\/index.php\\\\/2019\\\\/11\\\\/15\\\\/udar-niedokrwienny-mozgu\\\\/\\\\\" class=\\\\\"\\\\\" rel=\\\\\"bookmark\\\\\">Czytaj wi\\\\u0119cej &raquo;<span class=\\\\\"screen-reader-text\\\\\">Analiza wyst\\\\u0105pienia udaru niedokrwiennego m\\\\u00f3zgu<\\\\/span><\\\\/a><\\\\/div><\\\\/div>\\\\t\\\\t<\\\\/div>\\\\n\\\\t<\\\\/div>\\\\n<\\\\/article>\\\\n<article id=\\\\\"post-2232\\\\\" class=\\\\\"post-2232 post type-post status-publish format-standard hentry category-r tag-analiza-danych tag-glosowanie tag-poslowie tag-sejm layout-default col-12 nv-non-grid-article\\\\\">\\\\n\\\\t<div class=\\\\\"article-content-col\\\\\">\\\\n\\\\t\\\\t<div class=\\\\\"content\\\\\">\\\\n\\\\t\\\\t\\\\t<div class=\\\\\"non-grid-content default-layout-content\\\\\"><h2 class=\\\\\"blog-entry-title entry-title\\\\\"><a href=\\\\\"https:\\\\/\\\\/blog.prokulski.science\\\\/index.php\\\\/2019\\\\/10\\\\/28\\\\/sejm-viii-kadencji\\\\/\\\\\" rel=\\\\\"bookmark\\\\\">Sejm VIII kadencji<\\\\/a><\\\\/h2><ul class=\\\\\"nv-meta-list\\\\\"><li  class=\\\\\"meta author vcard\\\\\"><span class=\\\\\"author-name fn\\\\\">by <a href=\\\\\"https:\\\\/\\\\/blog.prokulski.science\\\\/index.php\\\\/author\\\\/ukasz\\\\/\\\\\" title=\\\\\"Posts by \\\\u0141ukasz\\\\\" rel=\\\\\"author\\\\\">\\\\u0141ukasz<\\\\/a><\\\\/span><\\\\/li><li class=\\\\\"meta category\\\\\"><a href=\\\\\"https:\\\\/\\\\/blog.prokulski.science\\\\/index.php\\\\/category\\\\/r\\\\/\\\\\" rel=\\\\\"category tag\\\\\">R<\\\\/a><\\\\/li><li class=\\\\\"meta date posted-on\\\\\"><time class=\\\\\"entry-date published\\\\\" datetime=\\\\\"2019-10-28T13:26:13+02:00\\\\\" content=\\\\\"2019-10-28\\\\\">28-10-2019<\\\\/time><time class=\\\\\"updated\\\\\" datetime=\\\\\"2019-10-28T13:29:37+02:00\\\\\">28-10-2019<\\\\/time><\\\\/li><li class=\\\\\"meta comments\\\\\"><a href=\\\\\"https:\\\\/\\\\/blog.prokulski.science\\\\/index.php\\\\/2019\\\\/10\\\\/28\\\\/sejm-viii-kadencji\\\\/#comments\\\\\">1 Komentarz<\\\\/a><\\\\/li><\\\\/ul><div class=\\\\\"excerpt-wrap entry-summary\\\\\">\\\\n<p>Wybory parlamentarne 2019 dobieg\\\\u0142y ko\\\\u0144ca, a co za tym idzie mamy zmian\\\\u0119 kadencji Sejmu. Podsumujmy wi\\\\u0119c mijaj\\\\u0105c\\\\u0105, \\\\u00f3sm\\\\u0105 kadencj\\\\u0119 Sejmu Rzeczpospolitej Polskiej. Kiedy g\\\\u0142osowali pos\\\\u0142owie, o jakich porach dnia i nocy? Kto by\\\\u0142 najcz\\\\u0119\\\\u015bciej nieobecny?<\\\\/p>\\\\n<a href=\\\\\"https:\\\\/\\\\/blog.prokulski.science\\\\/index.php\\\\/2019\\\\/10\\\\/28\\\\/sejm-viii-kadencji\\\\/\\\\\" class=\\\\\"\\\\\" rel=\\\\\"bookmark\\\\\">Czytaj wi\\\\u0119cej &raquo;<span class=\\\\\"screen-reader-text\\\\\">Sejm VIII kadencji<\\\\/span><\\\\/a><\\\\/div><\\\\/div>\\\\t\\\\t<\\\\/div>\\\\n\\\\t<\\\\/div>\\\\n<\\\\/article>\\\\n<article id=\\\\\"post-2189\\\\\" class=\\\\\"post-2189 post type-post status-publish format-standard hentry category-r tag-loty tag-polityka tag-premier tag-r layout-default col-12 nv-non-grid-article\\\\\">\\\\n\\\\t<div class=\\\\\"article-content-col\\\\\">\\\\n\\\\t\\\\t<div class=\\\\\"content\\\\\">\\\\n\\\\t\\\\t\\\\t<div class=\\\\\"non-grid-content default-layout-content\\\\\"><h2 class=\\\\\"blog-entry-title entry-title\\\\\"><a href=\\\\\"https:\\\\/\\\\/blog.prokulski.science\\\\/index.php\\\\/2019\\\\/08\\\\/20\\\\/latajacy-premierzy\\\\/\\\\\" rel=\\\\\"bookmark\\\\\">Lataj\\\\u0105cy premierzy<\\\\/a><\\\\/h2><ul class=\\\\\"nv-meta-list\\\\\"><li  class=\\\\\"meta author vcard\\\\\"><span class=\\\\\"author-name fn\\\\\">by <a href=\\\\\"https:\\\\/\\\\/blog.prokulski.science\\\\/index.php\\\\/author\\\\/ukasz\\\\/\\\\\" title=\\\\\"Posts by \\\\u0141ukasz\\\\\" rel=\\\\\"author\\\\\">\\\\u0141ukasz<\\\\/a><\\\\/span><\\\\/li><li class=\\\\\"meta category\\\\\"><a href=\\\\\"https:\\\\/\\\\/blog.prokulski.science\\\\/index.php\\\\/category\\\\/r\\\\/\\\\\" rel=\\\\\"category tag\\\\\">R<\\\\/a><\\\\/li><li class=\\\\\"meta date posted-on\\\\\"><time class=\\\\\"entry-date published\\\\\" datetime=\\\\\"2019-08-20T15:49:02+02:00\\\\\" content=\\\\\"2019-08-20\\\\\">20-08-2019<\\\\/time><time class=\\\\\"updated\\\\\" datetime=\\\\\"2019-08-21T13:46:19+02:00\\\\\">21-08-2019<\\\\/time><\\\\/li><li class=\\\\\"meta comments\\\\\"><a href=\\\\\"https:\\\\/\\\\/blog.prokulski.science\\\\/index.php\\\\/2019\\\\/08\\\\/20\\\\/latajacy-premierzy\\\\/#comments\\\\\">31 Komentarzy<\\\\/a><\\\\/li><\\\\/ul><div class=\\\\\"excerpt-wrap entry-summary\\\\\">\\\\n<p>Prze\\\\u0142om lipca i sierpnia 2019 roku w polskiej polityce zdominowany by\\\\u0142 przez informacje o lotach &#8211; najpierw marsza\\\\u0142ka Sejmu, p\\\\u00f3\\\\u017aniej kolejnych premier\\\\u00f3w. KPRM opublikowa\\\\u0142 list\\\\u0119 lot\\\\u00f3w kolejnych premier\\\\u00f3w z ostatnich kilku lat &#8211; zobaczmy czego nie zrobi\\\\u0142y z ni\\\\u0105 media?<\\\\/p>\\\\n<a href=\\\\\"https:\\\\/\\\\/blog.prokulski.science\\\\/index.php\\\\/2019\\\\/08\\\\/20\\\\/latajacy-premierzy\\\\/\\\\\" class=\\\\\"\\\\\" rel=\\\\\"bookmark\\\\\">Czytaj wi\\\\u0119cej &raquo;<span class=\\\\\"screen-reader-text\\\\\">Lataj\\\\u0105cy premierzy<\\\\/span><\\\\/a><\\\\/div><\\\\/div>\\\\t\\\\t<\\\\/div>\\\\n\\\\t<\\\\/div>\\\\n<\\\\/article>\\\\n<article id=\\\\\"post-2181\\\\\" class=\\\\\"post-2181 post type-post status-publish format-standard hentry category-r tag-markdown tag-r tag-raporty layout-default col-12 nv-non-grid-article\\\\\">\\\\n\\\\t<div class=\\\\\"article-content-col\\\\\">\\\\n\\\\t\\\\t<div class=\\\\\"content\\\\\">\\\\n\\\\t\\\\t\\\\t<div class=\\\\\"non-grid-content default-layout-content\\\\\"><h2 class=\\\\\"blog-entry-title entry-title\\\\\"><a href=\\\\\"https:\\\\/\\\\/blog.prokulski.science\\\\/index.php\\\\/2019\\\\/08\\\\/07\\\\/raporty-na-zadanie\\\\/\\\\\" rel=\\\\\"bookmark\\\\\">(Inteligentne) Raporty na \\\\u017c\\\\u0105danie<\\\\/a><\\\\/h2><ul class=\\\\\"nv-meta-list\\\\\"><li  class=\\\\\"meta author vcard\\\\\"><span class=\\\\\"author-name fn\\\\\">by <a href=\\\\\"https:\\\\/\\\\/blog.prokulski.science\\\\/index.php\\\\/author\\\\/ukasz\\\\/\\\\\" title=\\\\\"Posts by \\\\u0141ukasz\\\\\" rel=\\\\\"author\\\\\">\\\\u0141ukasz<\\\\/a><\\\\/span><\\\\/li><li class=\\\\\"meta category\\\\\"><a href=\\\\\"https:\\\\/\\\\/blog.prokulski.science\\\\/index.php\\\\/category\\\\/r\\\\/\\\\\" rel=\\\\\"category tag\\\\\">R<\\\\/a><\\\\/li><li class=\\\\\"meta date posted-on\\\\\"><time class=\\\\\"entry-date published\\\\\" datetime=\\\\\"2019-08-07T20:17:22+02:00\\\\\" content=\\\\\"2019-08-07\\\\\">07-08-2019<\\\\/time><time class=\\\\\"updated\\\\\" datetime=\\\\\"2019-08-27T13:54:01+02:00\\\\\">27-08-2019<\\\\/time><\\\\/li><li class=\\\\\"meta comments\\\\\"><a href=\\\\\"https:\\\\/\\\\/blog.prokulski.science\\\\/index.php\\\\/2019\\\\/08\\\\/07\\\\/raporty-na-zadanie\\\\/#comments\\\\\">3 Komentarze<\\\\/a><\\\\/li><\\\\/ul><div class=\\\\\"excerpt-wrap entry-summary\\\\\">\\\\n<p>Dzisiaj przygotujemy narz\\\\u0119dzia do automatycznego generowania raport\\\\u00f3w, kt\\\\u00f3re b\\\\u0119dzie (quasi) inteligentnie odpowiada\\\\u0107 na pytania zadane przez email.<\\\\/p><p>Czyli jak pozby\\\\u0107 si\\\\u0119 upierdliwej pracy (i zaj\\\\u0105\\\\u0107 si\\\\u0119 czym\\\\u015b innym)<\\\\/p>\\\\n<a href=\\\\\"https:\\\\/\\\\/blog.prokulski.science\\\\/index.php\\\\/2019\\\\/08\\\\/07\\\\/raporty-na-zadanie\\\\/\\\\\" class=\\\\\"\\\\\" rel=\\\\\"bookmark\\\\\">Czytaj wi\\\\u0119cej &raquo;<span class=\\\\\"screen-reader-text\\\\\">(Inteligentne) Raporty na \\\\u017c\\\\u0105danie<\\\\/span><\\\\/a><\\\\/div><\\\\/div>\\\\t\\\\t<\\\\/div>\\\\n\\\\t<\\\\/div>\\\\n<\\\\/article>\\\\n<article id=\\\\\"post-2174\\\\\" class=\\\\\"post-2174 post type-post status-publish format-standard hentry category-r tag-api tag-model tag-r layout-default col-12 nv-non-grid-article\\\\\">\\\\n\\\\t<div class=\\\\\"article-content-col\\\\\">\\\\n\\\\t\\\\t<div class=\\\\\"content\\\\\">\\\\n\\\\t\\\\t\\\\t<div class=\\\\\"non-grid-content default-layout-content\\\\\"><h2 class=\\\\\"blog-entry-title entry-title\\\\\"><a href=\\\\\"https:\\\\/\\\\/blog.prokulski.science\\\\/index.php\\\\/2019\\\\/07\\\\/17\\\\/model-jako-api\\\\/\\\\\" rel=\\\\\"bookmark\\\\\">Model jako API (w R)<\\\\/a><\\\\/h2><ul class=\\\\\"nv-meta-list\\\\\"><li  class=\\\\\"meta author vcard\\\\\"><span class=\\\\\"author-name fn\\\\\">by <a href=\\\\\"https:\\\\/\\\\/blog.prokulski.science\\\\/index.php\\\\/author\\\\/ukasz\\\\/\\\\\" title=\\\\\"Posts by \\\\u0141ukasz\\\\\" rel=\\\\\"author\\\\\">\\\\u0141ukasz<\\\\/a><\\\\/span><\\\\/li><li class=\\\\\"meta category\\\\\"><a href=\\\\\"https:\\\\/\\\\/blog.prokulski.science\\\\/index.php\\\\/category\\\\/r\\\\/\\\\\" rel=\\\\\"category tag\\\\\">R<\\\\/a><\\\\/li><li class=\\\\\"meta date posted-on\\\\\"><time class=\\\\\"entry-date published\\\\\" datetime=\\\\\"2019-07-17T13:19:18+02:00\\\\\" content=\\\\\"2019-07-17\\\\\">17-07-2019<\\\\/time><time class=\\\\\"updated\\\\\" datetime=\\\\\"2019-07-17T13:19:21+02:00\\\\\">17-07-2019<\\\\/time><\\\\/li><li class=\\\\\"meta comments\\\\\"><a href=\\\\\"https:\\\\/\\\\/blog.prokulski.science\\\\/index.php\\\\/2019\\\\/07\\\\/17\\\\/model-jako-api\\\\/#comments\\\\\">2 Komentarze<\\\\/a><\\\\/li><\\\\/ul><div class=\\\\\"excerpt-wrap entry-summary\\\\\">\\\\n<p>Budujemy model w R. Daje nawet dobre wyniki. Ale jak go u\\\\u017cy\\\\u0107 produkcyjnie? Gdyby tak pyta\\\\u0107 o wynik korzystaj\\\\u0105c z API?<\\\\/p>\\\\n<a href=\\\\\"https:\\\\/\\\\/blog.prokulski.science\\\\/index.php\\\\/2019\\\\/07\\\\/17\\\\/model-jako-api\\\\/\\\\\" class=\\\\\"\\\\\" rel=\\\\\"bookmark\\\\\">Czytaj wi\\\\u0119cej &raquo;<span class=\\\\\"screen-reader-text\\\\\">Model jako API (w R)<\\\\/span><\\\\/a><\\\\/div><\\\\/div>\\\\t\\\\t<\\\\/div>\\\\n\\\\t<\\\\/div>\\\\n<\\\\/article>\\\\n\"',\n b'\"<article id=\\\\\"post-2168\\\\\" class=\\\\\"post-2168 post type-post status-publish format-standard hentry category-r tag-interpretacja-wynikow tag-pca layout-default col-12 nv-non-grid-article\\\\\">\\\\n\\\\t<div class=\\\\\"article-content-col\\\\\">\\\\n\\\\t\\\\t<div class=\\\\\"content\\\\\">\\\\n\\\\t\\\\t\\\\t<div class=\\\\\"non-grid-content default-layout-content\\\\\"><h2 class=\\\\\"blog-entry-title entry-title\\\\\"><a href=\\\\\"https:\\\\/\\\\/blog.prokulski.science\\\\/index.php\\\\/2019\\\\/05\\\\/17\\\\/jak-interpretowac-pca\\\\/\\\\\" rel=\\\\\"bookmark\\\\\">Jak interpretowa\\\\u0107 wyniki analizy komponent\\\\u00f3w g\\\\u0142\\\\u00f3wnych (PCA)?<\\\\/a><\\\\/h2><ul class=\\\\\"nv-meta-list\\\\\"><li  class=\\\\\"meta author vcard\\\\\"><span class=\\\\\"author-name fn\\\\\">by <a href=\\\\\"https:\\\\/\\\\/blog.prokulski.science\\\\/index.php\\\\/author\\\\/ukasz\\\\/\\\\\" title=\\\\\"Posts by \\\\u0141ukasz\\\\\" rel=\\\\\"author\\\\\">\\\\u0141ukasz<\\\\/a><\\\\/span><\\\\/li><li class=\\\\\"meta category\\\\\"><a href=\\\\\"https:\\\\/\\\\/blog.prokulski.science\\\\/index.php\\\\/category\\\\/r\\\\/\\\\\" rel=\\\\\"category tag\\\\\">R<\\\\/a><\\\\/li><li class=\\\\\"meta date posted-on\\\\\"><time class=\\\\\"entry-date published\\\\\" datetime=\\\\\"2019-05-17T09:18:08+02:00\\\\\" content=\\\\\"2019-05-17\\\\\">17-05-2019<\\\\/time><time class=\\\\\"updated\\\\\" datetime=\\\\\"2019-05-17T09:18:17+02:00\\\\\">17-05-2019<\\\\/time><\\\\/li><li class=\\\\\"meta comments\\\\\"><a href=\\\\\"https:\\\\/\\\\/blog.prokulski.science\\\\/index.php\\\\/2019\\\\/05\\\\/17\\\\/jak-interpretowac-pca\\\\/#comments\\\\\">2 Komentarze<\\\\/a><\\\\/li><\\\\/ul><div class=\\\\\"excerpt-wrap entry-summary\\\\\">\\\\n<p>W sieci dost\\\\u0119pne jest multum informacji na czym polega metoda PCA, jednak ich istotnym problemem jest to, \\\\u017ce za bardzo skupiaj\\\\u0105 si\\\\u0119 na stronie matematycznej, a za ma\\\\u0142o na tym jak interpretowa\\\\u0107, rozumie\\\\u0107 i wyja\\\\u015bnia\\\\u0107 wyniki osobom nieobeznanym w statystyce i naukach \\\\u015bcis\\\\u0142ych.<\\\\/p>\\\\n<a href=\\\\\"https:\\\\/\\\\/blog.prokulski.science\\\\/index.php\\\\/2019\\\\/05\\\\/17\\\\/jak-interpretowac-pca\\\\/\\\\\" class=\\\\\"\\\\\" rel=\\\\\"bookmark\\\\\">Czytaj wi\\\\u0119cej &raquo;<span class=\\\\\"screen-reader-text\\\\\">Jak interpretowa\\\\u0107 wyniki analizy komponent\\\\u00f3w g\\\\u0142\\\\u00f3wnych (PCA)?<\\\\/span><\\\\/a><\\\\/div><\\\\/div>\\\\t\\\\t<\\\\/div>\\\\n\\\\t<\\\\/div>\\\\n<\\\\/article>\\\\n<article id=\\\\\"post-2159\\\\\" class=\\\\\"post-2159 post type-post status-publish format-standard hentry category-r tag-analiza-danych tag-pilka-nozna layout-default col-12 nv-non-grid-article\\\\\">\\\\n\\\\t<div class=\\\\\"article-content-col\\\\\">\\\\n\\\\t\\\\t<div class=\\\\\"content\\\\\">\\\\n\\\\t\\\\t\\\\t<div class=\\\\\"non-grid-content default-layout-content\\\\\"><h2 class=\\\\\"blog-entry-title entry-title\\\\\"><a href=\\\\\"https:\\\\/\\\\/blog.prokulski.science\\\\/index.php\\\\/2019\\\\/04\\\\/24\\\\/gole-w-europejskich-ligach\\\\/\\\\\" rel=\\\\\"bookmark\\\\\">Gole w europejskich ligach<\\\\/a><\\\\/h2><ul class=\\\\\"nv-meta-list\\\\\"><li  class=\\\\\"meta author vcard\\\\\"><span class=\\\\\"author-name fn\\\\\">by <a href=\\\\\"https:\\\\/\\\\/blog.prokulski.science\\\\/index.php\\\\/author\\\\/ukasz\\\\/\\\\\" title=\\\\\"Posts by \\\\u0141ukasz\\\\\" rel=\\\\\"author\\\\\">\\\\u0141ukasz<\\\\/a><\\\\/span><\\\\/li><li class=\\\\\"meta category\\\\\"><a href=\\\\\"https:\\\\/\\\\/blog.prokulski.science\\\\/index.php\\\\/category\\\\/r\\\\/\\\\\" rel=\\\\\"category tag\\\\\">R<\\\\/a><\\\\/li><li class=\\\\\"meta date posted-on\\\\\"><time class=\\\\\"entry-date published\\\\\" datetime=\\\\\"2019-04-24T13:21:16+02:00\\\\\" content=\\\\\"2019-04-24\\\\\">24-04-2019<\\\\/time><time class=\\\\\"updated\\\\\" datetime=\\\\\"2019-09-19T13:21:42+02:00\\\\\">19-09-2019<\\\\/time><\\\\/li><li class=\\\\\"meta comments\\\\\"><a href=\\\\\"https:\\\\/\\\\/blog.prokulski.science\\\\/index.php\\\\/2019\\\\/04\\\\/24\\\\/gole-w-europejskich-ligach\\\\/#comments\\\\\">10 Komentarzy<\\\\/a><\\\\/li><\\\\/ul><div class=\\\\\"excerpt-wrap entry-summary\\\\\">\\\\n<p>Sk\\\\u0105d padaj\\\\u0105 gole? Jak poruszaj\\\\u0105 si\\\\u0119 pi\\\\u0142karze podczas meczu? Czy zawodnicy podaj\\\\u0105 zawsze do tych samych?<\\\\/p>\\\\n<a href=\\\\\"https:\\\\/\\\\/blog.prokulski.science\\\\/index.php\\\\/2019\\\\/04\\\\/24\\\\/gole-w-europejskich-ligach\\\\/\\\\\" class=\\\\\"\\\\\" rel=\\\\\"bookmark\\\\\">Czytaj wi\\\\u0119cej &raquo;<span class=\\\\\"screen-reader-text\\\\\">Gole w europejskich ligach<\\\\/span><\\\\/a><\\\\/div><\\\\/div>\\\\t\\\\t<\\\\/div>\\\\n\\\\t<\\\\/div>\\\\n<\\\\/article>\\\\n<article id=\\\\\"post-2136\\\\\" class=\\\\\"post-2136 post type-post status-publish format-standard hentry category-r tag-bot tag-instagram tag-r tag-selenium tag-webscrapping layout-default col-12 nv-non-grid-article\\\\\">\\\\n\\\\t<div class=\\\\\"article-content-col\\\\\">\\\\n\\\\t\\\\t<div class=\\\\\"content\\\\\">\\\\n\\\\t\\\\t\\\\t<div class=\\\\\"non-grid-content default-layout-content\\\\\"><h2 class=\\\\\"blog-entry-title entry-title\\\\\"><a href=\\\\\"https:\\\\/\\\\/blog.prokulski.science\\\\/index.php\\\\/2019\\\\/03\\\\/27\\\\/instagram-w-r\\\\/\\\\\" rel=\\\\\"bookmark\\\\\">Instagram &#8211; zbieranie danych i bot<\\\\/a><\\\\/h2><ul class=\\\\\"nv-meta-list\\\\\"><li  class=\\\\\"meta author vcard\\\\\"><span class=\\\\\"author-name fn\\\\\">by <a href=\\\\\"https:\\\\/\\\\/blog.prokulski.science\\\\/index.php\\\\/author\\\\/ukasz\\\\/\\\\\" title=\\\\\"Posts by \\\\u0141ukasz\\\\\" rel=\\\\\"author\\\\\">\\\\u0141ukasz<\\\\/a><\\\\/span><\\\\/li><li class=\\\\\"meta category\\\\\"><a href=\\\\\"https:\\\\/\\\\/blog.prokulski.science\\\\/index.php\\\\/category\\\\/r\\\\/\\\\\" rel=\\\\\"category tag\\\\\">R<\\\\/a><\\\\/li><li class=\\\\\"meta date posted-on\\\\\"><time class=\\\\\"entry-date published\\\\\" datetime=\\\\\"2019-03-27T14:28:51+02:00\\\\\" content=\\\\\"2019-03-27\\\\\">27-03-2019<\\\\/time><time class=\\\\\"updated\\\\\" datetime=\\\\\"2020-06-21T12:07:16+02:00\\\\\">21-06-2020<\\\\/time><\\\\/li><li class=\\\\\"meta comments\\\\\"><a href=\\\\\"https:\\\\/\\\\/blog.prokulski.science\\\\/index.php\\\\/2019\\\\/03\\\\/27\\\\/instagram-w-r\\\\/#comments\\\\\">5 Komentarzy<\\\\/a><\\\\/li><\\\\/ul><div class=\\\\\"excerpt-wrap entry-summary\\\\\">\\\\n<p>Konto na Instagramie mam od kwietnia 2012 roku, ale nie zajmuje on mojego czasu (nie zagl\\\\u0105dam tam wcale). Kiedy\\\\u015b chcia\\\\u0142em sprawdzi\\\\u0107 czy zdj\\\\u0119cia z tagu #warszawa s\\\\u0105 zrobione w Warszawie, ale nie sprawdzi\\\\u0142em\\\\u2026 Do dzisiaj.<\\\\/p>\\\\n<a href=\\\\\"https:\\\\/\\\\/blog.prokulski.science\\\\/index.php\\\\/2019\\\\/03\\\\/27\\\\/instagram-w-r\\\\/\\\\\" class=\\\\\"\\\\\" rel=\\\\\"bookmark\\\\\">Czytaj wi\\\\u0119cej &raquo;<span class=\\\\\"screen-reader-text\\\\\">Instagram &#8211; zbieranie danych i bot<\\\\/span><\\\\/a><\\\\/div><\\\\/div>\\\\t\\\\t<\\\\/div>\\\\n\\\\t<\\\\/div>\\\\n<\\\\/article>\\\\n<article id=\\\\\"post-2121\\\\\" class=\\\\\"post-2121 post type-post status-publish format-standard hentry category-python category-r tag-python tag-r tag-reticulate layout-default col-12 nv-non-grid-article\\\\\">\\\\n\\\\t<div class=\\\\\"article-content-col\\\\\">\\\\n\\\\t\\\\t<div class=\\\\\"content\\\\\">\\\\n\\\\t\\\\t\\\\t<div class=\\\\\"non-grid-content default-layout-content\\\\\"><h2 class=\\\\\"blog-entry-title entry-title\\\\\"><a href=\\\\\"https:\\\\/\\\\/blog.prokulski.science\\\\/index.php\\\\/2019\\\\/03\\\\/05\\\\/najpopularniejsze-imiona-dzieci-nadane-w-2018-roku\\\\/\\\\\" rel=\\\\\"bookmark\\\\\">Najpopularniejsze imiona dzieci nadane w 2018 roku<\\\\/a><\\\\/h2><ul class=\\\\\"nv-meta-list\\\\\"><li  class=\\\\\"meta author vcard\\\\\"><span class=\\\\\"author-name fn\\\\\">by <a href=\\\\\"https:\\\\/\\\\/blog.prokulski.science\\\\/index.php\\\\/author\\\\/ukasz\\\\/\\\\\" title=\\\\\"Posts by \\\\u0141ukasz\\\\\" rel=\\\\\"author\\\\\">\\\\u0141ukasz<\\\\/a><\\\\/span><\\\\/li><li class=\\\\\"meta category\\\\\"><a href=\\\\\"https:\\\\/\\\\/blog.prokulski.science\\\\/index.php\\\\/category\\\\/python\\\\/\\\\\" rel=\\\\\"category tag\\\\\">Python<\\\\/a>, <a href=\\\\\"https:\\\\/\\\\/blog.prokulski.science\\\\/index.php\\\\/category\\\\/r\\\\/\\\\\" rel=\\\\\"category tag\\\\\">R<\\\\/a><\\\\/li><li class=\\\\\"meta date posted-on\\\\\"><time class=\\\\\"entry-date published\\\\\" datetime=\\\\\"2019-03-05T16:07:11+02:00\\\\\" content=\\\\\"2019-03-05\\\\\">05-03-2019<\\\\/time><time class=\\\\\"updated\\\\\" datetime=\\\\\"2019-03-05T16:07:15+02:00\\\\\">05-03-2019<\\\\/time><\\\\/li><li class=\\\\\"meta comments\\\\\"><a href=\\\\\"https:\\\\/\\\\/blog.prokulski.science\\\\/index.php\\\\/2019\\\\/03\\\\/05\\\\/najpopularniejsze-imiona-dzieci-nadane-w-2018-roku\\\\/#comments\\\\\">2 Komentarze<\\\\/a><\\\\/li><\\\\/ul><div class=\\\\\"excerpt-wrap entry-summary\\\\\">\\\\n<p>Niedawno Ministerstwo Cyfryzacji opublikowa\\\\u0142o <a href=\\\\\"https:\\\\/\\\\/www.gov.pl\\\\/web\\\\/cyfryzacja\\\\/imiona\\\\\">list\\\\u0119 najpopularniejszych imion<\\\\/a> nadawanych dzieciom w 2018 roku. Wykorzystamy to do po\\\\u0142\\\\u0105czenia Pythona z R (albo R z Pythonem).<\\\\/p>\\\\n<a href=\\\\\"https:\\\\/\\\\/blog.prokulski.science\\\\/index.php\\\\/2019\\\\/03\\\\/05\\\\/najpopularniejsze-imiona-dzieci-nadane-w-2018-roku\\\\/\\\\\" class=\\\\\"\\\\\" rel=\\\\\"bookmark\\\\\">Czytaj wi\\\\u0119cej &raquo;<span class=\\\\\"screen-reader-text\\\\\">Najpopularniejsze imiona dzieci nadane w 2018 roku<\\\\/span><\\\\/a><\\\\/div><\\\\/div>\\\\t\\\\t<\\\\/div>\\\\n\\\\t<\\\\/div>\\\\n<\\\\/article>\\\\n<article id=\\\\\"post-2093\\\\\" class=\\\\\"post-2093 post type-post status-publish format-standard hentry category-r tag-analiza-danych tag-oferty-pracy tag-praca tag-praca-dla-analityka tag-praca-w-it layout-default col-12 nv-non-grid-article\\\\\">\\\\n\\\\t<div class=\\\\\"article-content-col\\\\\">\\\\n\\\\t\\\\t<div class=\\\\\"content\\\\\">\\\\n\\\\t\\\\t\\\\t<div class=\\\\\"non-grid-content default-layout-content\\\\\"><h2 class=\\\\\"blog-entry-title entry-title\\\\\"><a href=\\\\\"https:\\\\/\\\\/blog.prokulski.science\\\\/index.php\\\\/2019\\\\/02\\\\/18\\\\/analiza-ofert-pracy\\\\/\\\\\" rel=\\\\\"bookmark\\\\\">Analiza ofert pracy<\\\\/a><\\\\/h2><ul class=\\\\\"nv-meta-list\\\\\"><li  class=\\\\\"meta author vcard\\\\\"><span class=\\\\\"author-name fn\\\\\">by <a href=\\\\\"https:\\\\/\\\\/blog.prokulski.science\\\\/index.php\\\\/author\\\\/ukasz\\\\/\\\\\" title=\\\\\"Posts by \\\\u0141ukasz\\\\\" rel=\\\\\"author\\\\\">\\\\u0141ukasz<\\\\/a><\\\\/span><\\\\/li><li class=\\\\\"meta category\\\\\"><a href=\\\\\"https:\\\\/\\\\/blog.prokulski.science\\\\/index.php\\\\/category\\\\/r\\\\/\\\\\" rel=\\\\\"category tag\\\\\">R<\\\\/a><\\\\/li><li class=\\\\\"meta date posted-on\\\\\"><time class=\\\\\"entry-date published\\\\\" datetime=\\\\\"2019-02-18T21:42:14+02:00\\\\\" content=\\\\\"2019-02-18\\\\\">18-02-2019<\\\\/time><time class=\\\\\"updated\\\\\" datetime=\\\\\"2019-02-18T21:42:21+02:00\\\\\">18-02-2019<\\\\/time><\\\\/li><li class=\\\\\"meta comments\\\\\"><a href=\\\\\"https:\\\\/\\\\/blog.prokulski.science\\\\/index.php\\\\/2019\\\\/02\\\\/18\\\\/analiza-ofert-pracy\\\\/#comments\\\\\">7 Komentarzy<\\\\/a><\\\\/li><\\\\/ul><div class=\\\\\"excerpt-wrap entry-summary\\\\\">\\\\n<p>Ile jest pracy dla ludzi zajmuj\\\\u0105cych si\\\\u0119 analiz\\\\u0105 danych i machine learningiem? Jakiej pracy w Polsce jest najwi\\\\u0119cej? Czy wida\\\\u0107 podzia\\\\u0142 na <em>Polsk\\\\u0119 A<\\\\/em> i <em>Polsk\\\\u0119 B<\\\\/em> w ofertach pracy?<\\\\/p>\\\\n<a href=\\\\\"https:\\\\/\\\\/blog.prokulski.science\\\\/index.php\\\\/2019\\\\/02\\\\/18\\\\/analiza-ofert-pracy\\\\/\\\\\" class=\\\\\"\\\\\" rel=\\\\\"bookmark\\\\\">Czytaj wi\\\\u0119cej &raquo;<span class=\\\\\"screen-reader-text\\\\\">Analiza ofert pracy<\\\\/span><\\\\/a><\\\\/div><\\\\/div>\\\\t\\\\t<\\\\/div>\\\\n\\\\t<\\\\/div>\\\\n<\\\\/article>\\\\n<article id=\\\\\"post-2082\\\\\" class=\\\\\"post-2082 post type-post status-publish format-standard hentry category-r tag-r tag-statystyka tag-testowanie-hipotez layout-default col-12 nv-non-grid-article\\\\\">\\\\n\\\\t<div class=\\\\\"article-content-col\\\\\">\\\\n\\\\t\\\\t<div class=\\\\\"content\\\\\">\\\\n\\\\t\\\\t\\\\t<div class=\\\\\"non-grid-content default-layout-content\\\\\"><h2 class=\\\\\"blog-entry-title entry-title\\\\\"><a href=\\\\\"https:\\\\/\\\\/blog.prokulski.science\\\\/index.php\\\\/2019\\\\/01\\\\/24\\\\/rozklad-normalny-hipotezy-i-regresja-logistyczna\\\\/\\\\\" rel=\\\\\"bookmark\\\\\">Testowanie rozk\\\\u0142adu, hipotez i regresja logistyczna<\\\\/a><\\\\/h2><ul class=\\\\\"nv-meta-list\\\\\"><li  class=\\\\\"meta author vcard\\\\\"><span class=\\\\\"author-name fn\\\\\">by <a href=\\\\\"https:\\\\/\\\\/blog.prokulski.science\\\\/index.php\\\\/author\\\\/ukasz\\\\/\\\\\" title=\\\\\"Posts by \\\\u0141ukasz\\\\\" rel=\\\\\"author\\\\\">\\\\u0141ukasz<\\\\/a><\\\\/span><\\\\/li><li class=\\\\\"meta category\\\\\"><a href=\\\\\"https:\\\\/\\\\/blog.prokulski.science\\\\/index.php\\\\/category\\\\/r\\\\/\\\\\" rel=\\\\\"category tag\\\\\">R<\\\\/a><\\\\/li><li class=\\\\\"meta date posted-on\\\\\"><time class=\\\\\"entry-date published\\\\\" datetime=\\\\\"2019-01-24T17:33:14+02:00\\\\\" content=\\\\\"2019-01-24\\\\\">24-01-2019<\\\\/time><time class=\\\\\"updated\\\\\" datetime=\\\\\"2019-01-25T17:24:43+02:00\\\\\">25-01-2019<\\\\/time><\\\\/li><li class=\\\\\"meta comments\\\\\"><a href=\\\\\"https:\\\\/\\\\/blog.prokulski.science\\\\/index.php\\\\/2019\\\\/01\\\\/24\\\\/rozklad-normalny-hipotezy-i-regresja-logistyczna\\\\/#comments\\\\\">5 Komentarzy<\\\\/a><\\\\/li><\\\\/ul><div class=\\\\\"excerpt-wrap entry-summary\\\\\">\\\\n<p>Dzisiaj troch\\\\u0119 nadrabiana statystyki za pomog\\\\u0105 R. Zobaczymy jak przetestowa\\\\u0107 czy rozk\\\\u0142ad jest normalny, jak przetestowa\\\\u0107 hipotezy i jak zbudowa\\\\u0107 prosty model.<\\\\/p>\\\\n<a href=\\\\\"https:\\\\/\\\\/blog.prokulski.science\\\\/index.php\\\\/2019\\\\/01\\\\/24\\\\/rozklad-normalny-hipotezy-i-regresja-logistyczna\\\\/\\\\\" class=\\\\\"\\\\\" rel=\\\\\"bookmark\\\\\">Czytaj wi\\\\u0119cej &raquo;<span class=\\\\\"screen-reader-text\\\\\">Testowanie rozk\\\\u0142adu, hipotez i regresja logistyczna<\\\\/span><\\\\/a><\\\\/div><\\\\/div>\\\\t\\\\t<\\\\/div>\\\\n\\\\t<\\\\/div>\\\\n<\\\\/article>\\\\n<article id=\\\\\"post-2071\\\\\" class=\\\\\"post-2071 post type-post status-publish format-standard hentry category-r tag-blog tag-podsumowanie-roku tag-r layout-default col-12 nv-non-grid-article\\\\\">\\\\n\\\\t<div class=\\\\\"article-content-col\\\\\">\\\\n\\\\t\\\\t<div class=\\\\\"content\\\\\">\\\\n\\\\t\\\\t\\\\t<div class=\\\\\"non-grid-content default-layout-content\\\\\"><h2 class=\\\\\"blog-entry-title entry-title\\\\\"><a href=\\\\\"https:\\\\/\\\\/blog.prokulski.science\\\\/index.php\\\\/2019\\\\/01\\\\/04\\\\/2018-na-blogu\\\\/\\\\\" rel=\\\\\"bookmark\\\\\">Podsumowanie 2018 roku na blogu<\\\\/a><\\\\/h2><ul class=\\\\\"nv-meta-list\\\\\"><li  class=\\\\\"meta author vcard\\\\\"><span class=\\\\\"author-name fn\\\\\">by <a href=\\\\\"https:\\\\/\\\\/blog.prokulski.science\\\\/index.php\\\\/author\\\\/ukasz\\\\/\\\\\" title=\\\\\"Posts by \\\\u0141ukasz\\\\\" rel=\\\\\"author\\\\\">\\\\u0141ukasz<\\\\/a><\\\\/span><\\\\/li><li class=\\\\\"meta category\\\\\"><a href=\\\\\"https:\\\\/\\\\/blog.prokulski.science\\\\/index.php\\\\/category\\\\/r\\\\/\\\\\" rel=\\\\\"category tag\\\\\">R<\\\\/a><\\\\/li><li class=\\\\\"meta date posted-on\\\\\"><time class=\\\\\"entry-date published\\\\\" datetime=\\\\\"2019-01-04T12:47:59+02:00\\\\\" content=\\\\\"2019-01-04\\\\\">04-01-2019<\\\\/time><time class=\\\\\"updated\\\\\" datetime=\\\\\"2019-01-04T12:48:02+02:00\\\\\">04-01-2019<\\\\/time><\\\\/li><li class=\\\\\"meta comments\\\\\"><a href=\\\\\"https:\\\\/\\\\/blog.prokulski.science\\\\/index.php\\\\/2019\\\\/01\\\\/04\\\\/2018-na-blogu\\\\/#comments\\\\\">5 Komentarzy<\\\\/a><\\\\/li><\\\\/ul><div class=\\\\\"excerpt-wrap entry-summary\\\\\">\\\\n<p>Pocz\\\\u0105tek roku to dobry czas na podsumowanie roku poprzedniego. Wykorzystajmy wi\\\\u0119c ten moment i podsumujmy 2018. Oczywi\\\\u015bcie z u\\\\u017cyciem R.<\\\\/p>\\\\n<a href=\\\\\"https:\\\\/\\\\/blog.prokulski.science\\\\/index.php\\\\/2019\\\\/01\\\\/04\\\\/2018-na-blogu\\\\/\\\\\" class=\\\\\"\\\\\" rel=\\\\\"bookmark\\\\\">Czytaj wi\\\\u0119cej &raquo;<span class=\\\\\"screen-reader-text\\\\\">Podsumowanie 2018 roku na blogu<\\\\/span><\\\\/a><\\\\/div><\\\\/div>\\\\t\\\\t<\\\\/div>\\\\n\\\\t<\\\\/div>\\\\n<\\\\/article>\\\\n\"']"
     },
     "execution_count": 11,
     "metadata": {},
     "output_type": "execute_result"
    }
   ],
   "source": [
    "base_url = \"https://blog.prokulski.science/index.php/wp-json/nv/v1/posts/page/\"\n",
    "gen = post_from_url_generator(base_url)\n",
    "[next(gen) for x in range(5)]\n",
    "#list(gen)\n"
   ],
   "metadata": {
    "collapsed": false,
    "pycharm": {
     "name": "#%%\n"
    }
   }
  },
  {
   "cell_type": "markdown",
   "source": [
    "Extract post pages from url's"
   ],
   "metadata": {
    "collapsed": false,
    "pycharm": {
     "name": "#%% md\n"
    }
   }
  },
  {
   "cell_type": "code",
   "execution_count": 6,
   "metadata": {
    "pycharm": {
     "name": "#%%\n"
    }
   },
   "outputs": [],
   "source": [
    "def get_post_urls_from_page(page):\n",
    "    soup = BeautifulSoup(page, 'html.parser')\n",
    "    result_urls = []\n",
    "    for x in soup.select(\"h2 > a\"):\n",
    "        url = str(x['href']).replace(\"\\\\\\\"\", \"\").replace(\"\\\\\", \"\")\n",
    "        result_urls.append(url)\n",
    "    return result_urls\n"
   ]
  },
  {
   "cell_type": "code",
   "execution_count": 7,
   "metadata": {
    "pycharm": {
     "name": "#%%\n"
    }
   },
   "outputs": [
    {
     "name": "stdout",
     "output_type": "stream",
     "text": [
      "Getting POST response from URL: https://blog.prokulski.science/index.php/wp-json/nv/v1/posts/page/1\n"
     ]
    },
    {
     "ename": "KeyboardInterrupt",
     "evalue": "",
     "output_type": "error",
     "traceback": [
      "\u001B[0;31m---------------------------------------------------------------------------\u001B[0m",
      "\u001B[0;31mKeyboardInterrupt\u001B[0m                         Traceback (most recent call last)",
      "\u001B[0;32m<ipython-input-7-ba6899a7876a>\u001B[0m in \u001B[0;36m<module>\u001B[0;34m\u001B[0m\n\u001B[1;32m      1\u001B[0m \u001B[0mbase_url\u001B[0m \u001B[0;34m=\u001B[0m \u001B[0;34m\"https://blog.prokulski.science/index.php/wp-json/nv/v1/posts/page/\"\u001B[0m\u001B[0;34m\u001B[0m\u001B[0;34m\u001B[0m\u001B[0m\n\u001B[1;32m      2\u001B[0m \u001B[0;34m\u001B[0m\u001B[0m\n\u001B[0;32m----> 3\u001B[0;31m \u001B[0mpost_urls\u001B[0m \u001B[0;34m=\u001B[0m \u001B[0;34m[\u001B[0m\u001B[0mget_post_urls_from_page\u001B[0m\u001B[0;34m(\u001B[0m\u001B[0mpage\u001B[0m\u001B[0;34m)\u001B[0m \u001B[0;32mfor\u001B[0m \u001B[0mpage\u001B[0m \u001B[0;32min\u001B[0m \u001B[0mpost_from_url_generator\u001B[0m\u001B[0;34m(\u001B[0m\u001B[0mbase_url\u001B[0m\u001B[0;34m,\u001B[0m \u001B[0mpages\u001B[0m\u001B[0;34m=\u001B[0m\u001B[0;36m3\u001B[0m\u001B[0;34m)\u001B[0m\u001B[0;34m]\u001B[0m\u001B[0;34m\u001B[0m\u001B[0;34m\u001B[0m\u001B[0m\n\u001B[0m\u001B[1;32m      4\u001B[0m \u001B[0mpost_urls\u001B[0m \u001B[0;34m=\u001B[0m \u001B[0mlist\u001B[0m\u001B[0;34m(\u001B[0m\u001B[0mitertools\u001B[0m\u001B[0;34m.\u001B[0m\u001B[0mchain\u001B[0m\u001B[0;34m.\u001B[0m\u001B[0mfrom_iterable\u001B[0m\u001B[0;34m(\u001B[0m\u001B[0mpost_urls\u001B[0m\u001B[0;34m)\u001B[0m\u001B[0;34m)\u001B[0m\u001B[0;34m\u001B[0m\u001B[0;34m\u001B[0m\u001B[0m\n\u001B[1;32m      5\u001B[0m \u001B[0;34m\u001B[0m\u001B[0m\n",
      "\u001B[0;32m<ipython-input-7-ba6899a7876a>\u001B[0m in \u001B[0;36m<listcomp>\u001B[0;34m(.0)\u001B[0m\n\u001B[1;32m      1\u001B[0m \u001B[0mbase_url\u001B[0m \u001B[0;34m=\u001B[0m \u001B[0;34m\"https://blog.prokulski.science/index.php/wp-json/nv/v1/posts/page/\"\u001B[0m\u001B[0;34m\u001B[0m\u001B[0;34m\u001B[0m\u001B[0m\n\u001B[1;32m      2\u001B[0m \u001B[0;34m\u001B[0m\u001B[0m\n\u001B[0;32m----> 3\u001B[0;31m \u001B[0mpost_urls\u001B[0m \u001B[0;34m=\u001B[0m \u001B[0;34m[\u001B[0m\u001B[0mget_post_urls_from_page\u001B[0m\u001B[0;34m(\u001B[0m\u001B[0mpage\u001B[0m\u001B[0;34m)\u001B[0m \u001B[0;32mfor\u001B[0m \u001B[0mpage\u001B[0m \u001B[0;32min\u001B[0m \u001B[0mpost_from_url_generator\u001B[0m\u001B[0;34m(\u001B[0m\u001B[0mbase_url\u001B[0m\u001B[0;34m,\u001B[0m \u001B[0mpages\u001B[0m\u001B[0;34m=\u001B[0m\u001B[0;36m3\u001B[0m\u001B[0;34m)\u001B[0m\u001B[0;34m]\u001B[0m\u001B[0;34m\u001B[0m\u001B[0;34m\u001B[0m\u001B[0m\n\u001B[0m\u001B[1;32m      4\u001B[0m \u001B[0mpost_urls\u001B[0m \u001B[0;34m=\u001B[0m \u001B[0mlist\u001B[0m\u001B[0;34m(\u001B[0m\u001B[0mitertools\u001B[0m\u001B[0;34m.\u001B[0m\u001B[0mchain\u001B[0m\u001B[0;34m.\u001B[0m\u001B[0mfrom_iterable\u001B[0m\u001B[0;34m(\u001B[0m\u001B[0mpost_urls\u001B[0m\u001B[0;34m)\u001B[0m\u001B[0;34m)\u001B[0m\u001B[0;34m\u001B[0m\u001B[0;34m\u001B[0m\u001B[0m\n\u001B[1;32m      5\u001B[0m \u001B[0;34m\u001B[0m\u001B[0m\n",
      "\u001B[0;32m<ipython-input-4-bf14f6900408>\u001B[0m in \u001B[0;36mpost_from_url_generator\u001B[0;34m(base_url, pages, sleep_time)\u001B[0m\n\u001B[1;32m      7\u001B[0m         \u001B[0mresp\u001B[0m \u001B[0;34m=\u001B[0m \u001B[0;34m\"testestes\"\u001B[0m\u001B[0;34m\u001B[0m\u001B[0;34m\u001B[0m\u001B[0m\n\u001B[1;32m      8\u001B[0m         \u001B[0mresp\u001B[0m \u001B[0;34m=\u001B[0m \u001B[0mrequests\u001B[0m\u001B[0;34m.\u001B[0m\u001B[0mpost\u001B[0m\u001B[0;34m(\u001B[0m\u001B[0murl\u001B[0m\u001B[0;34m)\u001B[0m\u001B[0;34m\u001B[0m\u001B[0;34m\u001B[0m\u001B[0m\n\u001B[0;32m----> 9\u001B[0;31m         \u001B[0mtime\u001B[0m\u001B[0;34m.\u001B[0m\u001B[0msleep\u001B[0m\u001B[0;34m(\u001B[0m\u001B[0msleep_time\u001B[0m\u001B[0;34m)\u001B[0m\u001B[0;34m\u001B[0m\u001B[0;34m\u001B[0m\u001B[0m\n\u001B[0m\u001B[1;32m     10\u001B[0m         \u001B[0;32myield\u001B[0m \u001B[0mresp\u001B[0m\u001B[0;34m.\u001B[0m\u001B[0mcontent\u001B[0m\u001B[0;34m\u001B[0m\u001B[0;34m\u001B[0m\u001B[0m\n\u001B[1;32m     11\u001B[0m         \u001B[0mi\u001B[0m \u001B[0;34m+=\u001B[0m \u001B[0;36m1\u001B[0m\u001B[0;34m\u001B[0m\u001B[0;34m\u001B[0m\u001B[0m\n",
      "\u001B[0;31mKeyboardInterrupt\u001B[0m: "
     ]
    }
   ],
   "source": [
    "base_url = \"https://blog.prokulski.science/index.php/wp-json/nv/v1/posts/page/\"\n",
    "\n",
    "post_urls = [get_post_urls_from_page(page) for page in post_from_url_generator(base_url, pages=3)]\n",
    "post_urls = list(itertools.chain.from_iterable(post_urls))"
   ]
  },
  {
   "cell_type": "code",
   "execution_count": null,
   "metadata": {
    "pycharm": {
     "name": "#%%\n"
    }
   },
   "outputs": [],
   "source": [
    "post_urls\n"
   ]
  },
  {
   "cell_type": "markdown",
   "source": [
    "Download all post's web pages and save local"
   ],
   "metadata": {
    "collapsed": false,
    "pycharm": {
     "name": "#%% md\n"
    }
   }
  },
  {
   "cell_type": "code",
   "execution_count": null,
   "metadata": {
    "pycharm": {
     "name": "#%%\n"
    }
   },
   "outputs": [],
   "source": [
    "for url in post_urls:\n",
    "    post_page = requests.get(url).content\n",
    "    post_title = url.replace(\"https://blog.prokulski.science/index.php/\", \"\").replace(\"/\", \"_\")[:-1]\n",
    "    print(f'Saving post page in file: {post_title}.html')\n",
    "    with open(\"pages/\"+post_title+\".html\", \"wb\") as outfile:\n",
    "        outfile.write(post_page)\n",
    "\n"
   ]
  },
  {
   "cell_type": "markdown",
   "metadata": {
    "pycharm": {
     "name": "#%% md\n"
    }
   },
   "source": [
    "Load web pages from files and return list of BeautifulSoap objects"
   ]
  },
  {
   "cell_type": "code",
   "execution_count": 9,
   "outputs": [],
   "source": [
    "def read_posts_from_disk(path: str, parser='html.parser'):\n",
    "    files = glob.glob(path)\n",
    "    posts = []\n",
    "\n",
    "    for file in files:\n",
    "        with open(file, \"rb\") as input_file:\n",
    "            filename = os.path.basename(file)\n",
    "            post_date = filename[:10].replace(\"_\", \"-\")\n",
    "            post_name = filename.replace(\".html\", \"\")\n",
    "            soup = BeautifulSoup(input_file.read(), parser)\n",
    "            posts.append((post_date, post_name, soup))\n",
    "    return posts"
   ],
   "metadata": {
    "collapsed": false,
    "pycharm": {
     "name": "#%%\n"
    }
   }
  },
  {
   "cell_type": "markdown",
   "source": [
    "### Load pages from local file system"
   ],
   "metadata": {
    "collapsed": false
   }
  },
  {
   "cell_type": "code",
   "execution_count": 24,
   "outputs": [],
   "source": [
    "posts = read_posts_from_disk(\"pages/2005*\", parser='lxml')"
   ],
   "metadata": {
    "collapsed": false,
    "pycharm": {
     "name": "#%%\n"
    }
   }
  },
  {
   "cell_type": "markdown",
   "source": [
    "### Functions for extract some attributes from BeatutifulSoup web page"
   ],
   "metadata": {
    "collapsed": false,
    "pycharm": {
     "name": "#%% md\n"
    }
   }
  },
  {
   "cell_type": "code",
   "execution_count": 34,
   "metadata": {
    "pycharm": {
     "name": "#%%\n"
    }
   },
   "outputs": [],
   "source": [
    "def get_tags(soup):\n",
    "    tag_links = soup.select(\".nv-tags-list > a\")\n",
    "    return list(map(lambda x: x.string, tag_links))\n",
    "\n",
    "\n",
    "def get_listings_count(soup) -> int:\n",
    "    code_divs = soup.select(\".crayon-code > .crayon-pre\")\n",
    "    return len(code_divs)\n",
    "\n",
    "\n",
    "def get_code_lines_count(soup) -> int:\n",
    "    line_divs = soup.select(\".crayon-code > .crayon-pre > .crayon-line\")\n",
    "    return len(line_divs)\n",
    "\n",
    "\n",
    "def get_tables_count(soup) -> int:\n",
    "    tables = soup.select(\"table:is(.table, .table-striped, .table-hover, .table-condensed, .table-responsive)\")\n",
    "    return len(tables)\n",
    "\n",
    "\n",
    "def get_images_count(soup):\n",
    "    imgs = soup.select(\"div.nv-content-wrap.entry-content\")[0].findChildren(\"img\")\n",
    "    return len(imgs)\n",
    "\n",
    "\n",
    "def get_comments(soup):\n",
    "    comments = []\n",
    "    for comment in soup.select(\".nv-comment-article\")[:2]:\n",
    "        comment_row = {}\n",
    "        comment_row['author'] = comment.select(\".comment-author .author\")[0].get_text()\n",
    "        # print(comment.body.author.get_text())\n",
    "        comment_row['date'] = pd.to_datetime(comment.select(\"time.entry-date.published\")[0]\n",
    "                                     .text.replace(\" o\", \"\"))\n",
    "        content_tags = comment.select(\"div.nv-comment-content.comment.nv-content-wrap > p\")[0]\n",
    "        comment_row['comment'] = content_tags.get_text()\n",
    "        comments.append(comment_row)\n",
    "    return comments"
   ]
  },
  {
   "cell_type": "code",
   "execution_count": 35,
   "outputs": [
    {
     "data": {
      "text/plain": "[{'author': 'Przemek',\n  'date': Timestamp('2005-02-20 22:11:00'),\n  'comment': 'Do tej pory używałem starego Zenita ojca, a ostatnio nawet bawiłem się Smieną, ale na odbitkach można faktycznie zbankrutować. Dorobiłem się niedawno Nikona  3100 – może nie jest to szczyt marzeń, ale przy ładnej pogodzie fotki robią wrażenie, a to chyba najważniejsze, no i można pstrykać do woli.'},\n {'author': 'olympus',\n  'date': Timestamp('2007-09-19 19:37:00'),\n  'comment': 'Ciekawy jestem kiedy przesiądziesz na lustrzankę'}]"
     },
     "execution_count": 35,
     "metadata": {},
     "output_type": "execute_result"
    }
   ],
   "source": [
    "get_comments(posts[4][2])"
   ],
   "metadata": {
    "collapsed": false,
    "pycharm": {
     "name": "#%%\n"
    }
   }
  },
  {
   "cell_type": "code",
   "execution_count": 28,
   "outputs": [
    {
     "data": {
      "text/plain": "[{'author': 'Przemek',\n  'date': Timestamp('2005-02-20 22:11:00'),\n  'comment': 'Do tej pory używałem starego Zenita ojca, a ostatnio nawet bawiłem się Smieną, ale na odbitkach można faktycznie zbankrutować. Dorobiłem się niedawno Nikona  3100 – może nie jest to szczyt marzeń, ale przy ładnej pogodzie fotki robią wrażenie, a to chyba najważniejsze, no i można pstrykać do woli.'},\n {'author': 'olympus',\n  'date': Timestamp('2007-09-19 19:37:00'),\n  'comment': 'Ciekawy jestem kiedy przesiądziesz na lustrzankę'}]"
     },
     "execution_count": 28,
     "metadata": {},
     "output_type": "execute_result"
    }
   ],
   "source": [
    "# posts[0]\n",
    "\n",
    "\n"
   ],
   "metadata": {
    "collapsed": false,
    "pycharm": {
     "name": "#%%\n"
    }
   }
  },
  {
   "cell_type": "code",
   "execution_count": null,
   "metadata": {
    "pycharm": {
     "name": "#%%\n"
    }
   },
   "outputs": [],
   "source": [
    "# posts[0]"
   ]
  },
  {
   "cell_type": "markdown",
   "source": [
    "Convert BeautifulSoup objects to dataframe and extract features from web page"
   ],
   "metadata": {
    "collapsed": false,
    "pycharm": {
     "name": "#%% md\n"
    }
   }
  },
  {
   "cell_type": "code",
   "execution_count": 38,
   "metadata": {
    "pycharm": {
     "name": "#%%\n"
    }
   },
   "outputs": [],
   "source": [
    "rows_list = []\n",
    "comments_list = []\n",
    "i=1\n",
    "for date, title, soup in posts:\n",
    "    row = {}\n",
    "    row['id'] = i\n",
    "    row['title'] = title\n",
    "    row['post_date'] = date\n",
    "    row['code_lines'] = get_code_lines_count(soup)\n",
    "    row['listings_num'] = get_listings_count(soup)\n",
    "    row['tables_count'] = get_tables_count(soup)\n",
    "    row['tags'] = get_tags(soup)\n",
    "    row['comments'] = get_comments(soup)\n",
    "    rows_list.append(row)\n",
    "\n",
    "    comm = {'id': i, 'comments': get_comments(soup)}\n",
    "    comments_list.append(comm)\n",
    "    i += 1\n",
    "\n",
    "post_df = pd.DataFrame(rows_list)\n",
    "comment_df = pd.DataFrame(comments_list)"
   ]
  },
  {
   "cell_type": "code",
   "execution_count": 39,
   "metadata": {
    "pycharm": {
     "name": "#%%\n"
    }
   },
   "outputs": [
    {
     "data": {
      "text/plain": "                                       title   post_date  code_lines  \\\n0                2005_01_04_na-dobry-pocztek  2005-01-04           0   \n1             2005_01_04_pink-floyd-nieznany  2005-01-04           0   \n2  2005_01_05_pink-floyd-nieznany-cig-dalszy  2005-01-05           0   \n3                       2005_01_11_marzyciel  2005-01-11           0   \n4                   2005_01_11_olympus-c-765  2005-01-11           0   \n\n   listings_num  tables_count                                   tags  \\\n0             0             0  [blog, domena, host, hosting, partia]   \n1             0             0                                     []   \n2             0             0                               [partia]   \n3             0             0                                     []   \n4             0             0             [kraków, olympus, zdjęcia]   \n\n                                            comments  \n0  [{'author': 'Michalski9', 'date': 2019-02-12 0...  \n1  [{'author': 'vera', 'date': 2006-09-30 10:57:0...  \n2                                                 []  \n3                                                 []  \n4  [{'author': 'Przemek', 'date': 2005-02-20 22:1...  ",
      "text/html": "<div>\n<style scoped>\n    .dataframe tbody tr th:only-of-type {\n        vertical-align: middle;\n    }\n\n    .dataframe tbody tr th {\n        vertical-align: top;\n    }\n\n    .dataframe thead th {\n        text-align: right;\n    }\n</style>\n<table border=\"1\" class=\"dataframe\">\n  <thead>\n    <tr style=\"text-align: right;\">\n      <th></th>\n      <th>title</th>\n      <th>post_date</th>\n      <th>code_lines</th>\n      <th>listings_num</th>\n      <th>tables_count</th>\n      <th>tags</th>\n      <th>comments</th>\n    </tr>\n  </thead>\n  <tbody>\n    <tr>\n      <th>0</th>\n      <td>2005_01_04_na-dobry-pocztek</td>\n      <td>2005-01-04</td>\n      <td>0</td>\n      <td>0</td>\n      <td>0</td>\n      <td>[blog, domena, host, hosting, partia]</td>\n      <td>[{'author': 'Michalski9', 'date': 2019-02-12 0...</td>\n    </tr>\n    <tr>\n      <th>1</th>\n      <td>2005_01_04_pink-floyd-nieznany</td>\n      <td>2005-01-04</td>\n      <td>0</td>\n      <td>0</td>\n      <td>0</td>\n      <td>[]</td>\n      <td>[{'author': 'vera', 'date': 2006-09-30 10:57:0...</td>\n    </tr>\n    <tr>\n      <th>2</th>\n      <td>2005_01_05_pink-floyd-nieznany-cig-dalszy</td>\n      <td>2005-01-05</td>\n      <td>0</td>\n      <td>0</td>\n      <td>0</td>\n      <td>[partia]</td>\n      <td>[]</td>\n    </tr>\n    <tr>\n      <th>3</th>\n      <td>2005_01_11_marzyciel</td>\n      <td>2005-01-11</td>\n      <td>0</td>\n      <td>0</td>\n      <td>0</td>\n      <td>[]</td>\n      <td>[]</td>\n    </tr>\n    <tr>\n      <th>4</th>\n      <td>2005_01_11_olympus-c-765</td>\n      <td>2005-01-11</td>\n      <td>0</td>\n      <td>0</td>\n      <td>0</td>\n      <td>[kraków, olympus, zdjęcia]</td>\n      <td>[{'author': 'Przemek', 'date': 2005-02-20 22:1...</td>\n    </tr>\n  </tbody>\n</table>\n</div>"
     },
     "execution_count": 39,
     "metadata": {},
     "output_type": "execute_result"
    }
   ],
   "source": [
    "post_df.head()"
   ]
  },
  {
   "cell_type": "code",
   "execution_count": null,
   "outputs": [],
   "source": [
    "comment_df.head()\n",
    "\n"
   ],
   "metadata": {
    "collapsed": false,
    "pycharm": {
     "name": "#%%\n"
    }
   }
  },
  {
   "cell_type": "code",
   "execution_count": 3,
   "outputs": [],
   "source": [
    "website = requests.get(\"https://greendreamer.com/journal/environmental-organizations-nonprofits-for-a-sustainable-future\").content\n",
    "soup = BeautifulSoup(website)"
   ],
   "metadata": {
    "collapsed": false,
    "pycharm": {
     "name": "#%%\n"
    }
   }
  },
  {
   "cell_type": "code",
   "execution_count": 42,
   "outputs": [
    {
     "data": {
      "text/plain": "'Get involved: Contribute to its storytelling efforts in its award-winning journal; pledge to boycott companies guilty of abuse against Indigenous communities; donate.'"
     },
     "execution_count": 42,
     "metadata": {},
     "output_type": "execute_result"
    }
   ],
   "source": [
    "soup.select('h3[style=\"white-space:pre-wrap;\"] ~ p')[1].get_text()\n",
    "# tag = soup.select('div[data-block-type=\"2\"] > *')[1]\n",
    "#\n",
    "# [x for x in tag.children]"
   ],
   "metadata": {
    "collapsed": false,
    "pycharm": {
     "name": "#%%\n"
    }
   }
  }
 ],
 "metadata": {
  "kernelspec": {
   "display_name": "Python 3",
   "language": "python",
   "name": "python3"
  },
  "language_info": {
   "codemirror_mode": {
    "name": "ipython",
    "version": 3
   },
   "file_extension": ".py",
   "mimetype": "text/x-python",
   "name": "python",
   "nbconvert_exporter": "python",
   "pygments_lexer": "ipython3",
   "version": "3.8.5"
  }
 },
 "nbformat": 4,
 "nbformat_minor": 1
}