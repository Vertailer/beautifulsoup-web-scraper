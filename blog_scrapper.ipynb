{
 "cells": [
  {
   "cell_type": "markdown",
   "metadata": {},
   "source": [
    "### Import libs"
   ]
  },
  {
   "cell_type": "code",
   "execution_count": 2,
   "metadata": {
    "pycharm": {
     "name": "#%%\n"
    }
   },
   "outputs": [],
   "source": [
    "import numpy as np\n",
    "import pandas as pd\n",
    "\n",
    "from bs4 import BeautifulSoup\n",
    "import requests\n",
    "\n",
    "import os\n",
    "import time\n",
    "import glob\n",
    "import itertools\n",
    "import lxml"
   ]
  },
  {
   "cell_type": "markdown",
   "source": [
    "### Download pages"
   ],
   "metadata": {
    "collapsed": false,
    "pycharm": {
     "name": "#%% md\n"
    }
   }
  },
  {
   "cell_type": "markdown",
   "metadata": {
    "pycharm": {
     "name": "#%% md\n"
    }
   },
   "source": [
    "Function for HTTP requests"
   ]
  },
  {
   "cell_type": "code",
   "execution_count": 15,
   "outputs": [],
   "source": [
    "def send_http_request(url, method='GET', body=''):\n",
    "    response = requests.request(method=method, url=url)\n",
    "    return response.text"
   ],
   "metadata": {
    "collapsed": false,
    "pycharm": {
     "name": "#%%\n"
    }
   }
  },
  {
   "cell_type": "code",
   "execution_count": null,
   "outputs": [],
   "source": [],
   "metadata": {
    "collapsed": false,
    "pycharm": {
     "name": "#%%\n"
    }
   }
  },
  {
   "cell_type": "code",
   "execution_count": 21,
   "outputs": [],
   "source": [
    "def post_from_url_generator(base_url, sleep_time=5):\n",
    "    for i in range(1, 99999):\n",
    "        url = f\"{base_url}{i}\"\n",
    "        response_text = send_http_request(url, method='POST')\n",
    "        time.sleep(sleep_time)\n",
    "        if response_text: yield response_text\n",
    "        else: break"
   ],
   "metadata": {
    "collapsed": false,
    "pycharm": {
     "name": "#%%\n"
    }
   }
  },
  {
   "cell_type": "markdown",
   "source": [
    "Example use"
   ],
   "metadata": {
    "collapsed": false,
    "pycharm": {
     "name": "#%% md\n"
    }
   }
  },
  {
   "cell_type": "code",
   "execution_count": 22,
   "outputs": [],
   "source": [
    "base_url = \"https://blog.prokulski.science/index.php/wp-json/nv/v1/posts/page/\"\n",
    "gen = post_from_url_generator(base_url)\n",
    "page = next(gen)\n",
    "#[next(gen) for x in range(5)]"
   ],
   "metadata": {
    "collapsed": false,
    "pycharm": {
     "name": "#%%\n"
    }
   }
  },
  {
   "cell_type": "markdown",
   "source": [
    "### Parse pages for extract post urls"
   ],
   "metadata": {
    "collapsed": false,
    "pycharm": {
     "name": "#%% md\n"
    }
   }
  },
  {
   "cell_type": "markdown",
   "source": [
    "Extract post pages from page"
   ],
   "metadata": {
    "collapsed": false,
    "pycharm": {
     "name": "#%% md\n"
    }
   }
  },
  {
   "cell_type": "code",
   "execution_count": 23,
   "metadata": {
    "pycharm": {
     "name": "#%%\n"
    }
   },
   "outputs": [],
   "source": [
    "def get_post_urls_from_page(page):\n",
    "    soup = BeautifulSoup(page, 'html.parser')\n",
    "    result_urls = []\n",
    "    for x in soup.select(\"h2 > a\"):\n",
    "        url = str(x['href']).replace(\"\\\\\\\"\", \"\").replace(\"\\\\\", \"\")\n",
    "        result_urls.append(url)\n",
    "    return result_urls"
   ]
  },
  {
   "cell_type": "markdown",
   "source": [
    "Example use"
   ],
   "metadata": {
    "collapsed": false,
    "pycharm": {
     "name": "#%% md\n"
    }
   }
  },
  {
   "cell_type": "code",
   "execution_count": 25,
   "metadata": {
    "pycharm": {
     "name": "#%%\n"
    }
   },
   "outputs": [],
   "source": [
    "get_post_urls_from_page(page)"
   ]
  },
  {
   "cell_type": "markdown",
   "source": [
    "### Download posts"
   ],
   "metadata": {
    "collapsed": false,
    "pycharm": {
     "name": "#%% md\n"
    }
   }
  },
  {
   "cell_type": "markdown",
   "source": [
    "Download all posts and store"
   ],
   "metadata": {
    "collapsed": false,
    "pycharm": {
     "name": "#%% md\n"
    }
   }
  },
  {
   "cell_type": "code",
   "execution_count": null,
   "metadata": {
    "pycharm": {
     "name": "#%%\n"
    }
   },
   "outputs": [],
   "source": [
    "post_urls = list()\n",
    "[post_urls.append(get_post_urls_from_page(x)) for x in post_from_url_generator(base_url)]\n",
    "# post_urls = list(itertools.chain.from_iterable(post_urls))\n",
    "\n",
    "for url in post_urls:\n",
    "    post_page = requests.get(url).text\n",
    "    post_title = url.replace(\"https://blog.prokulski.science/index.php/\", \"\").replace(\"/\", \"_\")[:-1]\n",
    "    print(f'Saving post page in file: {post_title}.html')\n",
    "    with open(\"pages/\"+post_title+\".html\", \"wb\") as outfile:\n",
    "        outfile.write(post_page)\n",
    "\n"
   ]
  },
  {
   "cell_type": "markdown",
   "source": [
    "### Parse posts with BeautifulSoup"
   ],
   "metadata": {
    "collapsed": false,
    "pycharm": {
     "name": "#%% md\n"
    }
   }
  },
  {
   "cell_type": "markdown",
   "metadata": {
    "pycharm": {
     "name": "#%% md\n"
    }
   },
   "source": [
    "Load web pages from disk"
   ]
  },
  {
   "cell_type": "code",
   "execution_count": 30,
   "outputs": [],
   "source": [
    "def read_posts_from_disk(path: str, parser: str='html.parser'):\n",
    "    files = glob.glob(path)\n",
    "    posts = []\n",
    "\n",
    "    for file in files:\n",
    "        with open(file, \"rb\") as input_file:\n",
    "            filename = os.path.basename(file)\n",
    "            post_date = filename[:10].replace(\"_\", \"-\")\n",
    "            post_name = filename.replace(\".html\", \"\")\n",
    "            soup = BeautifulSoup(input_file.read(), parser)\n",
    "            posts.append((post_date, post_name, soup))\n",
    "    return posts"
   ],
   "metadata": {
    "collapsed": false,
    "pycharm": {
     "name": "#%%\n"
    }
   }
  },
  {
   "cell_type": "code",
   "execution_count": null,
   "outputs": [],
   "source": [
    "posts = read_posts_from_disk(\"pages/2005*\", parser='lxml')"
   ],
   "metadata": {
    "collapsed": false,
    "pycharm": {
     "name": "#%%\n"
    }
   }
  },
  {
   "cell_type": "markdown",
   "source": [
    "Functions for extract some attributes from BeatutifulSoup web page"
   ],
   "metadata": {
    "collapsed": false,
    "pycharm": {
     "name": "#%% md\n"
    }
   }
  },
  {
   "cell_type": "code",
   "execution_count": null,
   "metadata": {
    "pycharm": {
     "name": "#%%\n"
    }
   },
   "outputs": [],
   "source": [
    "def get_tags(soup):\n",
    "    tag_links = soup.select(\".nv-tags-list > a\")\n",
    "    return list(map(lambda x: x.string, tag_links))\n",
    "\n",
    "\n",
    "def get_listings_count(soup) -> int:\n",
    "    code_divs = soup.select(\".crayon-code > .crayon-pre\")\n",
    "    return len(code_divs)\n",
    "\n",
    "\n",
    "def get_code_lines_count(soup) -> int:\n",
    "    line_divs = soup.select(\".crayon-code > .crayon-pre > .crayon-line\")\n",
    "    return len(line_divs)\n",
    "\n",
    "\n",
    "def get_tables_count(soup) -> int:\n",
    "    tables = soup.select(\"table:is(.table, .table-striped, .table-hover, .table-condensed, .table-responsive)\")\n",
    "    return len(tables)\n",
    "\n",
    "\n",
    "def get_images_count(soup):\n",
    "    imgs = soup.select(\"div.nv-content-wrap.entry-content\")[0].findChildren(\"img\")\n",
    "    return len(imgs)\n",
    "\n",
    "\n",
    "def get_comments(soup):\n",
    "    comments = []\n",
    "    for comment in soup.select(\".nv-comment-article\")[:2]:\n",
    "        comment_row = {}\n",
    "        comment_row['author'] = comment.select(\".comment-author .author\")[0].get_text()\n",
    "        # print(comment.body.author.get_text())\n",
    "        comment_row['date'] = pd.to_datetime(comment.select(\"time.entry-date.published\")[0]\n",
    "                                     .text.replace(\" o\", \"\"))\n",
    "        content_tags = comment.select(\"div.nv-comment-content.comment.nv-content-wrap > p\")[0]\n",
    "        comment_row['comment'] = content_tags.get_text()\n",
    "        comments.append(comment_row)\n",
    "    return comments\n"
   ]
  },
  {
   "cell_type": "markdown",
   "source": [
    "Convert BeautifulSoup objects to dataframe and extract features from web page"
   ],
   "metadata": {
    "collapsed": false,
    "pycharm": {
     "name": "#%% md\n"
    }
   }
  },
  {
   "cell_type": "code",
   "execution_count": null,
   "metadata": {
    "pycharm": {
     "name": "#%%\n"
    }
   },
   "outputs": [],
   "source": [
    "rows_list = []\n",
    "comments_list = []\n",
    "i=1\n",
    "for date, title, soup in posts:\n",
    "    row = {}\n",
    "    row['id'] = i\n",
    "    row['title'] = title\n",
    "    row['post_date'] = date\n",
    "    row['code_lines'] = get_code_lines_count(soup)\n",
    "    row['listings_num'] = get_listings_count(soup)\n",
    "    row['tables_count'] = get_tables_count(soup)\n",
    "    row['tags'] = get_tags(soup)\n",
    "    row['comments'] = get_comments(soup)\n",
    "    rows_list.append(row)\n",
    "\n",
    "    comm = {'id': i, 'comments': get_comments(soup)}\n",
    "    comments_list.append(comm)\n",
    "    i += 1\n",
    "\n",
    "post_df = pd.DataFrame(rows_list)\n",
    "comment_df = pd.DataFrame(comments_list)"
   ]
  },
  {
   "cell_type": "code",
   "execution_count": null,
   "metadata": {
    "pycharm": {
     "name": "#%%\n"
    }
   },
   "outputs": [],
   "source": [
    "post_df.head()"
   ]
  },
  {
   "cell_type": "code",
   "execution_count": null,
   "outputs": [],
   "source": [
    "comment_df.head()"
   ],
   "metadata": {
    "collapsed": false,
    "pycharm": {
     "name": "#%%\n"
    }
   }
  }
 ],
 "metadata": {
  "kernelspec": {
   "display_name": "Python 3",
   "language": "python",
   "name": "python3"
  },
  "language_info": {
   "codemirror_mode": {
    "name": "ipython",
    "version": 3
   },
   "file_extension": ".py",
   "mimetype": "text/x-python",
   "name": "python",
   "nbconvert_exporter": "python",
   "pygments_lexer": "ipython3",
   "version": "3.8.5"
  }
 },
 "nbformat": 4,
 "nbformat_minor": 1
}