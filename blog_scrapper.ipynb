{
 "cells": [
  {
   "cell_type": "markdown",
   "metadata": {},
   "source": [
    "### Import potrzebnych bibliotek"
   ]
  },
  {
   "cell_type": "code",
   "execution_count": 2,
   "metadata": {
    "pycharm": {
     "name": "#%%\n"
    }
   },
   "outputs": [],
   "source": [
    "import pandas as pd\n",
    "\n",
    "from bs4 import BeautifulSoup\n",
    "import requests\n",
    "\n",
    "import os\n",
    "import time\n",
    "import glob"
   ]
  },
  {
   "cell_type": "markdown",
   "source": [
    "### Pobieranie stron na dysk lokalny"
   ],
   "metadata": {
    "collapsed": false,
    "pycharm": {
     "name": "#%% md\n"
    }
   }
  },
  {
   "cell_type": "markdown",
   "metadata": {
    "pycharm": {
     "name": "#%% md\n"
    }
   },
   "source": [
    "Generator generuje (heh) adresy URL wg. wzorca {base_url}{i} tj. w tym przypadku *https://blog.prokulski.science/index.php/wp-json/nv/v1/posts/page/{1..}*\n",
    "i zwraca treść odpowiedzi HTTP do momentu, aż odpowiedź będzie pusta, wystąpi błąd `RequestException` lub zostanie wygenerowana liczba zapytań równa wartości parametru `pages`\n",
    "\n",
    "\n",
    "W odpowiedzi na żądanie HTTP zwracany jest JSON (nagłówek odpowiedzi ```Content-Type: application/json; charset=UTF-8```), należy więc użyć funkcji `json()`, aby otrzymać odpowiednio sformatowaną treść odpowiedzi."
   ]
  },
  {
   "cell_type": "code",
   "execution_count": 15,
   "outputs": [],
   "source": [
    "def post_from_url_generator(base_url, pages=None, sleep_time=5):\n",
    "    if pages is None:\n",
    "        pages = 9999\n",
    "    for i in range(1, pages+1):\n",
    "        url = f\"{base_url}{i}\"\n",
    "        try:\n",
    "            response = requests.post(url)\n",
    "        except requests.RequestException:\n",
    "            break\n",
    "        time.sleep(sleep_time)\n",
    "        respone_json = response.json()\n",
    "        if respone_json: yield respone_json\n",
    "        else: break"
   ],
   "metadata": {
    "collapsed": false,
    "pycharm": {
     "name": "#%%\n"
    }
   }
  },
  {
   "cell_type": "markdown",
   "source": [
    "Przykład użycia generatora - kolejne zapytanie wysyłane są dopiero przy kolejnym wywołaniu funkcji `next(gen)` bądź kiedy będziemy iterować po generatorze"
   ],
   "metadata": {
    "collapsed": false,
    "pycharm": {
     "name": "#%% md\n"
    }
   }
  },
  {
   "cell_type": "code",
   "execution_count": 21,
   "outputs": [],
   "source": [
    "base_url = \"https://blog.prokulski.science/index.php/wp-json/nv/v1/posts/page/\"\n",
    "gen = post_from_url_generator(base_url)\n",
    "page = next(gen)\n",
    "print(page)"
   ],
   "metadata": {
    "collapsed": false,
    "pycharm": {
     "name": "#%%\n"
    }
   }
  },
  {
   "cell_type": "markdown",
   "source": [
    "### Wyodrębnienie adresów do stron postów\n"
   ],
   "metadata": {
    "collapsed": false,
    "pycharm": {
     "name": "#%% md\n"
    }
   }
  },
  {
   "cell_type": "markdown",
   "source": [
    "Funkcja jako parametr przyjmuje treść dokumentu HTML i wyciąga wszystkie tagi `<a\\>`, które znajdują się w tagu `<h2\\>` a następnie wyciągamy atrybut `href`"
   ],
   "metadata": {
    "collapsed": false,
    "pycharm": {
     "name": "#%% md\n"
    }
   }
  },
  {
   "cell_type": "code",
   "source": [
    "def get_post_urls_from_page(page: str) -> list:\n",
    "    soup = BeautifulSoup(page, 'lxml')\n",
    "    result_urls = []\n",
    "    for x in soup.select(\"h2 > a\"):\n",
    "        url = x['href']\n",
    "        result_urls.append(url)\n",
    "    return result_urls"
   ],
   "metadata": {
    "collapsed": false,
    "pycharm": {
     "name": "#%%\n"
    }
   },
   "execution_count": null,
   "outputs": []
  },
  {
   "cell_type": "markdown",
   "source": [
    "Przykład użycia"
   ],
   "metadata": {
    "collapsed": false,
    "pycharm": {
     "name": "#%% md\n"
    }
   }
  },
  {
   "cell_type": "code",
   "execution_count": 23,
   "metadata": {
    "pycharm": {
     "name": "#%%\n"
    }
   },
   "outputs": [],
   "source": [
    "get_post_urls_from_page(page)"
   ]
  },
  {
   "cell_type": "markdown",
   "source": [
    "### Pobieranie postów na lokalną maszynę, aby podczas dalszej pracy nie obciążać serwera"
   ],
   "metadata": {
    "collapsed": false,
    "pycharm": {
     "name": "#%% md\n"
    }
   }
  },
  {
   "cell_type": "markdown",
   "metadata": {
    "pycharm": {
     "name": "#%% md\n"
    }
   },
   "source": [
    "Składamy listę z hiperłączy do postów uzyskanych z wcześniejszego generatora"
   ]
  },
  {
   "cell_type": "code",
   "source": [
    "post_urls = list()\n",
    "[post_urls.append(get_post_urls_from_page(x)) for x in post_from_url_generator(base_url)]\n",
    "# post_urls = list(itertools.chain.from_iterable(post_urls))"
   ],
   "metadata": {
    "collapsed": false,
    "pycharm": {
     "name": "#%%\n"
    }
   },
   "execution_count": null,
   "outputs": []
  },
  {
   "cell_type": "markdown",
   "source": [
    "Pobieramy wszystkie posty z wygenerowanych wcześniej linków. W tym przypadku nagłówek odpowiedzi ```Content-Type: text/html; charset=UTF-8``` nie wymaga używania funkcji `json()`, odpowiedź pobieramy z atrybutu `text`\n",
    "\n",
    "Pobrane treści postów zapisujemy w folderze `pages/{data}_{tytuł}.html`\n"
   ],
   "metadata": {
    "collapsed": false,
    "pycharm": {
     "name": "#%% md\n"
    }
   }
  },
  {
   "cell_type": "code",
   "execution_count": null,
   "metadata": {
    "pycharm": {
     "name": "#%%\n"
    }
   },
   "outputs": [],
   "source": [
    "for url in post_urls:\n",
    "    post_page = requests.get(url).text\n",
    "    time.sleep(2)\n",
    "    post_title = url.replace(\"https://blog.prokulski.science/index.php/\", \"\").replace(\"/\", \"_\")[:-1]\n",
    "    print(f'Saving post page in file: {post_title}.html')\n",
    "    with open(\"pages/\"+post_title+\".html\", \"wb\") as outfile:\n",
    "        outfile.write(post_page)\n",
    "\n"
   ]
  },
  {
   "cell_type": "markdown",
   "source": [
    "### Parsowanie postów z BeautifulSoup"
   ],
   "metadata": {
    "collapsed": false,
    "pycharm": {
     "name": "#%% md\n"
    }
   }
  },
  {
   "cell_type": "markdown",
   "metadata": {
    "pycharm": {
     "name": "#%% md\n"
    }
   },
   "source": [
    "Funkcja ładuje do pamięci treści postów i tworzy na ich podstawie obiekty BeautifulSoup.\n",
    "\n",
    "Jako parametr możemy podać parser, który zostanie wykorzystany przez BeautifulSoup. Dwa z popularniejszych parserów to ```html.parser```, który jest domyślnym parserem ```bs4``` oraz ```lxml``` (bodajże trzeba oddzielnie zainstalować), który powinien być znacznie szybszy niż domyślny ```html.parser```"
   ]
  },
  {
   "cell_type": "code",
   "execution_count": 30,
   "outputs": [],
   "source": [
    "def read_posts_from_disk(path: str, parser: str='html.parser'):\n",
    "    files = glob.glob(path)\n",
    "    posts = []\n",
    "\n",
    "    for file in files:\n",
    "        with open(file, \"rb\") as input_file:\n",
    "            filename = os.path.basename(file)\n",
    "            post_date = filename[:10].replace(\"_\", \"-\")\n",
    "            post_name = filename.replace(\".html\", \"\")\n",
    "            soup = BeautifulSoup(input_file.read(), parser)\n",
    "            posts.append((post_date, post_name, soup))\n",
    "    return posts"
   ],
   "metadata": {
    "collapsed": false,
    "pycharm": {
     "name": "#%%\n"
    }
   }
  },
  {
   "cell_type": "markdown",
   "source": [
    "Wywołujemy powyższą funkcję i wczytujemy posty (w przykładzie tylko posty z 2019 roku)"
   ],
   "metadata": {
    "collapsed": false,
    "pycharm": {
     "name": "#%% md\n"
    }
   }
  },
  {
   "cell_type": "code",
   "source": [
    "posts = read_posts_from_disk(\"pages/2019*\", parser='lxml')"
   ],
   "metadata": {
    "collapsed": false,
    "pycharm": {
     "name": "#%%\n"
    }
   },
   "execution_count": null,
   "outputs": []
  },
  {
   "cell_type": "markdown",
   "metadata": {
    "pycharm": {
     "name": "#%% md\n"
    }
   },
   "source": [
    "Funkcje, którymi w następnym kroku wydobędziemy informacje o postach. Fukncje przyjmują jako argument obiekt BeautifulSoup"
   ]
  },
  {
   "cell_type": "code",
   "source": [
    "def get_tags(soup: BeautifulSoup) -> list:\n",
    "    # wybieramy wszystkie tagi <a>, które występują w tagu z klasą \".nv-tags-list\"\n",
    "    tag_links = soup.select(\".nv-tags-list > a\")\n",
    "    # składamy wartości tekstowe tagów (tag.string) w listę\n",
    "    return [x.string for x in tag_links]\n",
    "    # return list(map(lambda x: x.string, tag_links))\n",
    "\n",
    "\n",
    "def get_listings_count(soup: BeautifulSoup) -> int:\n",
    "    # wybieramy wszystkie tagi, które mają klasę \".crayon-pre\" oraz występują w tagu z klasą \".crayon-code\"\n",
    "    code_divs = soup.select(\".crayon-code > .crayon-pre\")\n",
    "    # zwracamy liczbę znalezionych tagów\n",
    "    return len(code_divs)\n",
    "\n",
    "\n",
    "def get_code_lines_count(soup: BeautifulSoup) -> int:\n",
    "    line_divs = soup.select(\".crayon-code > .crayon-pre > .crayon-line\")\n",
    "    return len(line_divs)\n",
    "\n",
    "\n",
    "def get_tables_count(soup: BeautifulSoup) -> int:\n",
    "    # wybieramy wszystkie tagi <table>, które posiadają jakąkolwiek klasę z listy\n",
    "    tables = soup.select(\"table:is(.table, .table-striped, .table-hover, .table-condensed, .table-responsive)\")\n",
    "    # zwracamy liczbę znalezionych tagów\n",
    "    return len(tables)\n",
    "\n",
    "\n",
    "def get_images_count(soup: BeautifulSoup):\n",
    "    # wybieramy wszystkie tagi <img>, które występują w tagu o id \"wtr-content\"\n",
    "    imgs = soup.select(\"#wtr-content > img\")\n",
    "    # zwracamy liczbę znalezionych tagów\n",
    "    return len(imgs)\n",
    "\n",
    "\n",
    "def get_comments(soup: BeautifulSoup):\n",
    "    comments = []\n",
    "    # wybieramy wszystkie tagi z klasą \".nv-comment-article\"\n",
    "    for comment in soup.select(\".nv-comment-article\"):\n",
    "        comment_row = {}\n",
    "        comment_row['author'] = comment.select(\".comment-author .author\")[0].get_text()\n",
    "        comment_row['date'] = pd.to_datetime(comment.select(\"time.entry-date.published\")[0]\n",
    "                                     .text.replace(\" o\", \"\"))\n",
    "        content_tags = comment.select(\"div.nv-comment-content.comment.nv-content-wrap > p\")[0]\n",
    "        comment_row['comment'] = content_tags.get_text()\n",
    "        comments.append(comment_row)\n",
    "    return comments\n"
   ],
   "metadata": {
    "collapsed": false,
    "pycharm": {
     "name": "#%%\n"
    }
   },
   "execution_count": null,
   "outputs": []
  },
  {
   "cell_type": "markdown",
   "metadata": {
    "pycharm": {
     "name": "#%% md\n"
    }
   },
   "source": [
    "Z listy wczytanych postów wyciągamy informacje i tworzymy dwa obiekty ```DataFrame```, jeden dla postów a drugi dla komentarzy"
   ]
  },
  {
   "cell_type": "code",
   "execution_count": null,
   "metadata": {
    "pycharm": {
     "name": "#%%\n"
    }
   },
   "outputs": [],
   "source": [
    "rows_list = []\n",
    "comments_list = []\n",
    "i=1\n",
    "for date, title, soup in posts:\n",
    "    row = {}\n",
    "    # row['id'] = i\n",
    "    row['title'] = title\n",
    "    row['post_date'] = date\n",
    "    row['code_lines'] = get_code_lines_count(soup)\n",
    "    row['listings_num'] = get_listings_count(soup)\n",
    "    row['tables_count'] = get_tables_count(soup)\n",
    "    row['images_count'] = get_images_count(soup)\n",
    "    row['tags'] = get_tags(soup)\n",
    "    rows_list.append(row)\n",
    "\n",
    "    comm = {'comments': get_comments(soup)}\n",
    "    comments_list.append(comm)\n",
    "    i += 1\n",
    "\n",
    "post_df = pd.DataFrame(rows_list)\n",
    "comment_df = pd.DataFrame(comments_list)"
   ]
  },
  {
   "cell_type": "markdown",
   "source": [
    "Nadajemy nazwy indeksom"
   ],
   "metadata": {
    "collapsed": false,
    "pycharm": {
     "name": "#%% md\n"
    }
   }
  },
  {
   "cell_type": "code",
   "execution_count": null,
   "outputs": [],
   "source": [
    "post_df.index.name = 'id'\n",
    "comment_df.index.name = 'id'"
   ],
   "metadata": {
    "collapsed": false,
    "pycharm": {
     "name": "#%%\n"
    }
   }
  },
  {
   "cell_type": "markdown",
   "source": [
    "Rozszerzamy ```DataFrame```, żeby jeden komentarz był w jednym wierszu"
   ],
   "metadata": {
    "collapsed": false
   }
  },
  {
   "cell_type": "code",
   "execution_count": null,
   "outputs": [],
   "source": [
    "exploded_comment_df = comment_df.explode('comments')"
   ],
   "metadata": {
    "collapsed": false,
    "pycharm": {
     "name": "#%%\n"
    }
   }
  },
  {
   "cell_type": "markdown",
   "source": [
    "Tworzymy ```DataFrame``` z kolumny *comments*"
   ],
   "metadata": {
    "collapsed": false
   }
  },
  {
   "cell_type": "code",
   "execution_count": null,
   "outputs": [],
   "source": [
    "details_comment_df = exploded_comment_df['comments'].apply(pd.Series)"
   ],
   "metadata": {
    "collapsed": false,
    "pycharm": {
     "name": "#%%\n"
    }
   }
  },
  {
   "cell_type": "markdown",
   "source": [
    "Usuwamy kolumnę `0` oraz wiersze bez komentarzy"
   ],
   "metadata": {
    "collapsed": false
   }
  },
  {
   "cell_type": "code",
   "execution_count": null,
   "outputs": [],
   "source": [
    "details_comment_df = details_comment_df.drop(0, axis=1)\n",
    "details_comment_df = details_comment_df.dropna()"
   ],
   "metadata": {
    "collapsed": false,
    "pycharm": {
     "name": "#%%\n"
    }
   }
  },
  {
   "cell_type": "markdown",
   "source": [
    "Wyświetlamy końcowy wynik"
   ],
   "metadata": {
    "collapsed": false
   }
  },
  {
   "cell_type": "code",
   "execution_count": null,
   "outputs": [],
   "source": [
    "post_df.head()"
   ],
   "metadata": {
    "collapsed": false,
    "pycharm": {
     "name": "#%%\n"
    }
   }
  },
  {
   "cell_type": "code",
   "execution_count": null,
   "outputs": [],
   "source": [
    "details_comment_df.head()"
   ],
   "metadata": {
    "collapsed": false,
    "pycharm": {
     "name": "#%%\n"
    }
   }
  }
 ],
 "metadata": {
  "kernelspec": {
   "display_name": "Python 3",
   "language": "python",
   "name": "python3"
  },
  "language_info": {
   "codemirror_mode": {
    "name": "ipython",
    "version": 3
   },
   "file_extension": ".py",
   "mimetype": "text/x-python",
   "name": "python",
   "nbconvert_exporter": "python",
   "pygments_lexer": "ipython3",
   "version": "3.8.5"
  }
 },
 "nbformat": 4,
 "nbformat_minor": 1
}