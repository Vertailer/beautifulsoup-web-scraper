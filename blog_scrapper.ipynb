{
 "cells": [
  {
   "cell_type": "markdown",
   "metadata": {},
   "source": [
    "Import libs"
   ]
  },
  {
   "cell_type": "code",
   "execution_count": 8,
   "metadata": {
    "pycharm": {
     "name": "#%%\n"
    }
   },
   "outputs": [],
   "source": [
    "import numpy as np\n",
    "import pandas as pd\n",
    "\n",
    "from bs4 import BeautifulSoup\n",
    "import requests\n",
    "\n",
    "import os\n",
    "import time\n",
    "import glob\n",
    "import itertools\n",
    "import lxml"
   ]
  },
  {
   "cell_type": "markdown",
   "source": [
    "Generator function  for downloading pages"
   ],
   "metadata": {
    "collapsed": false,
    "pycharm": {
     "name": "#%% md\n"
    }
   }
  },
  {
   "cell_type": "code",
   "execution_count": 4,
   "metadata": {
    "pycharm": {
     "name": "#%%\n"
    }
   },
   "outputs": [],
   "source": [
    "def post_from_url_generator(base_url, pages=999999, sleep_time=5):\n",
    "    i = 1\n",
    "    resp = \"rest\"\n",
    "    while resp != \"\\\"\\\"\" and i <= pages:\n",
    "        url = f\"{base_url}{i}\"\n",
    "        print(f\"Getting POST response from URL: {url}\")\n",
    "        resp = \"testestes\"\n",
    "        resp = requests.post(url)\n",
    "        time.sleep(sleep_time)\n",
    "        yield resp.content\n",
    "        i += 1"
   ]
  },
  {
   "cell_type": "markdown",
   "source": [
    "Download pages"
   ],
   "metadata": {
    "collapsed": false,
    "pycharm": {
     "name": "#%% md\n"
    }
   }
  },
  {
   "cell_type": "code",
   "execution_count": 5,
   "metadata": {
    "pycharm": {
     "name": "#%%\n"
    }
   },
   "outputs": [],
   "source": [
    "base_url = \"https://blog.prokulski.science/index.php/wp-json/nv/v1/posts/page/\"\n",
    "gen = post_from_url_generator(base_url, pages=5)\n",
    "#list(gen)\n"
   ]
  },
  {
   "cell_type": "markdown",
   "source": [
    "Extract post pages from url's"
   ],
   "metadata": {
    "collapsed": false,
    "pycharm": {
     "name": "#%% md\n"
    }
   }
  },
  {
   "cell_type": "code",
   "execution_count": 6,
   "metadata": {
    "pycharm": {
     "name": "#%%\n"
    }
   },
   "outputs": [],
   "source": [
    "def get_post_urls_from_page(page):\n",
    "    soup = BeautifulSoup(page, 'html.parser')\n",
    "    result_urls = []\n",
    "    for x in soup.select(\"h2 > a\"):\n",
    "        url = str(x['href']).replace(\"\\\\\\\"\", \"\").replace(\"\\\\\", \"\")\n",
    "        result_urls.append(url)\n",
    "    return result_urls\n"
   ]
  },
  {
   "cell_type": "code",
   "execution_count": 7,
   "metadata": {
    "pycharm": {
     "name": "#%%\n"
    }
   },
   "outputs": [
    {
     "name": "stdout",
     "output_type": "stream",
     "text": [
      "Getting POST response from URL: https://blog.prokulski.science/index.php/wp-json/nv/v1/posts/page/1\n"
     ]
    },
    {
     "ename": "KeyboardInterrupt",
     "evalue": "",
     "output_type": "error",
     "traceback": [
      "\u001B[0;31m---------------------------------------------------------------------------\u001B[0m",
      "\u001B[0;31mKeyboardInterrupt\u001B[0m                         Traceback (most recent call last)",
      "\u001B[0;32m<ipython-input-7-ba6899a7876a>\u001B[0m in \u001B[0;36m<module>\u001B[0;34m\u001B[0m\n\u001B[1;32m      1\u001B[0m \u001B[0mbase_url\u001B[0m \u001B[0;34m=\u001B[0m \u001B[0;34m\"https://blog.prokulski.science/index.php/wp-json/nv/v1/posts/page/\"\u001B[0m\u001B[0;34m\u001B[0m\u001B[0;34m\u001B[0m\u001B[0m\n\u001B[1;32m      2\u001B[0m \u001B[0;34m\u001B[0m\u001B[0m\n\u001B[0;32m----> 3\u001B[0;31m \u001B[0mpost_urls\u001B[0m \u001B[0;34m=\u001B[0m \u001B[0;34m[\u001B[0m\u001B[0mget_post_urls_from_page\u001B[0m\u001B[0;34m(\u001B[0m\u001B[0mpage\u001B[0m\u001B[0;34m)\u001B[0m \u001B[0;32mfor\u001B[0m \u001B[0mpage\u001B[0m \u001B[0;32min\u001B[0m \u001B[0mpost_from_url_generator\u001B[0m\u001B[0;34m(\u001B[0m\u001B[0mbase_url\u001B[0m\u001B[0;34m,\u001B[0m \u001B[0mpages\u001B[0m\u001B[0;34m=\u001B[0m\u001B[0;36m3\u001B[0m\u001B[0;34m)\u001B[0m\u001B[0;34m]\u001B[0m\u001B[0;34m\u001B[0m\u001B[0;34m\u001B[0m\u001B[0m\n\u001B[0m\u001B[1;32m      4\u001B[0m \u001B[0mpost_urls\u001B[0m \u001B[0;34m=\u001B[0m \u001B[0mlist\u001B[0m\u001B[0;34m(\u001B[0m\u001B[0mitertools\u001B[0m\u001B[0;34m.\u001B[0m\u001B[0mchain\u001B[0m\u001B[0;34m.\u001B[0m\u001B[0mfrom_iterable\u001B[0m\u001B[0;34m(\u001B[0m\u001B[0mpost_urls\u001B[0m\u001B[0;34m)\u001B[0m\u001B[0;34m)\u001B[0m\u001B[0;34m\u001B[0m\u001B[0;34m\u001B[0m\u001B[0m\n\u001B[1;32m      5\u001B[0m \u001B[0;34m\u001B[0m\u001B[0m\n",
      "\u001B[0;32m<ipython-input-7-ba6899a7876a>\u001B[0m in \u001B[0;36m<listcomp>\u001B[0;34m(.0)\u001B[0m\n\u001B[1;32m      1\u001B[0m \u001B[0mbase_url\u001B[0m \u001B[0;34m=\u001B[0m \u001B[0;34m\"https://blog.prokulski.science/index.php/wp-json/nv/v1/posts/page/\"\u001B[0m\u001B[0;34m\u001B[0m\u001B[0;34m\u001B[0m\u001B[0m\n\u001B[1;32m      2\u001B[0m \u001B[0;34m\u001B[0m\u001B[0m\n\u001B[0;32m----> 3\u001B[0;31m \u001B[0mpost_urls\u001B[0m \u001B[0;34m=\u001B[0m \u001B[0;34m[\u001B[0m\u001B[0mget_post_urls_from_page\u001B[0m\u001B[0;34m(\u001B[0m\u001B[0mpage\u001B[0m\u001B[0;34m)\u001B[0m \u001B[0;32mfor\u001B[0m \u001B[0mpage\u001B[0m \u001B[0;32min\u001B[0m \u001B[0mpost_from_url_generator\u001B[0m\u001B[0;34m(\u001B[0m\u001B[0mbase_url\u001B[0m\u001B[0;34m,\u001B[0m \u001B[0mpages\u001B[0m\u001B[0;34m=\u001B[0m\u001B[0;36m3\u001B[0m\u001B[0;34m)\u001B[0m\u001B[0;34m]\u001B[0m\u001B[0;34m\u001B[0m\u001B[0;34m\u001B[0m\u001B[0m\n\u001B[0m\u001B[1;32m      4\u001B[0m \u001B[0mpost_urls\u001B[0m \u001B[0;34m=\u001B[0m \u001B[0mlist\u001B[0m\u001B[0;34m(\u001B[0m\u001B[0mitertools\u001B[0m\u001B[0;34m.\u001B[0m\u001B[0mchain\u001B[0m\u001B[0;34m.\u001B[0m\u001B[0mfrom_iterable\u001B[0m\u001B[0;34m(\u001B[0m\u001B[0mpost_urls\u001B[0m\u001B[0;34m)\u001B[0m\u001B[0;34m)\u001B[0m\u001B[0;34m\u001B[0m\u001B[0;34m\u001B[0m\u001B[0m\n\u001B[1;32m      5\u001B[0m \u001B[0;34m\u001B[0m\u001B[0m\n",
      "\u001B[0;32m<ipython-input-4-bf14f6900408>\u001B[0m in \u001B[0;36mpost_from_url_generator\u001B[0;34m(base_url, pages, sleep_time)\u001B[0m\n\u001B[1;32m      7\u001B[0m         \u001B[0mresp\u001B[0m \u001B[0;34m=\u001B[0m \u001B[0;34m\"testestes\"\u001B[0m\u001B[0;34m\u001B[0m\u001B[0;34m\u001B[0m\u001B[0m\n\u001B[1;32m      8\u001B[0m         \u001B[0mresp\u001B[0m \u001B[0;34m=\u001B[0m \u001B[0mrequests\u001B[0m\u001B[0;34m.\u001B[0m\u001B[0mpost\u001B[0m\u001B[0;34m(\u001B[0m\u001B[0murl\u001B[0m\u001B[0;34m)\u001B[0m\u001B[0;34m\u001B[0m\u001B[0;34m\u001B[0m\u001B[0m\n\u001B[0;32m----> 9\u001B[0;31m         \u001B[0mtime\u001B[0m\u001B[0;34m.\u001B[0m\u001B[0msleep\u001B[0m\u001B[0;34m(\u001B[0m\u001B[0msleep_time\u001B[0m\u001B[0;34m)\u001B[0m\u001B[0;34m\u001B[0m\u001B[0;34m\u001B[0m\u001B[0m\n\u001B[0m\u001B[1;32m     10\u001B[0m         \u001B[0;32myield\u001B[0m \u001B[0mresp\u001B[0m\u001B[0;34m.\u001B[0m\u001B[0mcontent\u001B[0m\u001B[0;34m\u001B[0m\u001B[0;34m\u001B[0m\u001B[0m\n\u001B[1;32m     11\u001B[0m         \u001B[0mi\u001B[0m \u001B[0;34m+=\u001B[0m \u001B[0;36m1\u001B[0m\u001B[0;34m\u001B[0m\u001B[0;34m\u001B[0m\u001B[0m\n",
      "\u001B[0;31mKeyboardInterrupt\u001B[0m: "
     ]
    }
   ],
   "source": [
    "base_url = \"https://blog.prokulski.science/index.php/wp-json/nv/v1/posts/page/\"\n",
    "\n",
    "post_urls = [get_post_urls_from_page(page) for page in post_from_url_generator(base_url, pages=3)]\n",
    "post_urls = list(itertools.chain.from_iterable(post_urls))"
   ]
  },
  {
   "cell_type": "code",
   "execution_count": null,
   "metadata": {
    "pycharm": {
     "name": "#%%\n"
    }
   },
   "outputs": [],
   "source": [
    "post_urls\n"
   ]
  },
  {
   "cell_type": "markdown",
   "source": [
    "Download all post's web pages and save local"
   ],
   "metadata": {
    "collapsed": false,
    "pycharm": {
     "name": "#%% md\n"
    }
   }
  },
  {
   "cell_type": "code",
   "execution_count": null,
   "metadata": {
    "pycharm": {
     "name": "#%%\n"
    }
   },
   "outputs": [],
   "source": [
    "for url in post_urls:\n",
    "    post_page = requests.get(url).content\n",
    "    post_title = url.replace(\"https://blog.prokulski.science/index.php/\", \"\").replace(\"/\", \"_\")[:-1]\n",
    "    print(f'Saving post page in file: {post_title}.html')\n",
    "    with open(\"pages/\"+post_title+\".html\", \"wb\") as outfile:\n",
    "        outfile.write(post_page)\n",
    "\n"
   ]
  },
  {
   "cell_type": "markdown",
   "metadata": {
    "pycharm": {
     "name": "#%% md\n"
    }
   },
   "source": [
    "Load web pages from files and return list of BeautifulSoap objects"
   ]
  },
  {
   "cell_type": "code",
   "execution_count": 9,
   "outputs": [],
   "source": [
    "def read_posts_from_disk(path: str, parser='html.parser'):\n",
    "    files = glob.glob(path)\n",
    "    posts = []\n",
    "\n",
    "    for file in files:\n",
    "        with open(file, \"rb\") as input_file:\n",
    "            filename = os.path.basename(file)\n",
    "            post_date = filename[:10].replace(\"_\", \"-\")\n",
    "            post_name = filename.replace(\".html\", \"\")\n",
    "            soup = BeautifulSoup(input_file.read(), parser)\n",
    "            posts.append((post_date, post_name, soup))\n",
    "    return posts"
   ],
   "metadata": {
    "collapsed": false,
    "pycharm": {
     "name": "#%%\n"
    }
   }
  },
  {
   "cell_type": "markdown",
   "source": [
    "### Load pages from local file system"
   ],
   "metadata": {
    "collapsed": false
   }
  },
  {
   "cell_type": "code",
   "execution_count": 24,
   "outputs": [],
   "source": [
    "posts = read_posts_from_disk(\"pages/2005*\", parser='lxml')"
   ],
   "metadata": {
    "collapsed": false,
    "pycharm": {
     "name": "#%%\n"
    }
   }
  },
  {
   "cell_type": "markdown",
   "source": [
    "### Functions for extract some attributes from BeatutifulSoup web page"
   ],
   "metadata": {
    "collapsed": false,
    "pycharm": {
     "name": "#%% md\n"
    }
   }
  },
  {
   "cell_type": "code",
   "execution_count": 34,
   "metadata": {
    "pycharm": {
     "name": "#%%\n"
    }
   },
   "outputs": [],
   "source": [
    "def get_tags(soup):\n",
    "    tag_links = soup.select(\".nv-tags-list > a\")\n",
    "    return list(map(lambda x: x.string, tag_links))\n",
    "\n",
    "\n",
    "def get_listings_count(soup) -> int:\n",
    "    code_divs = soup.select(\".crayon-code > .crayon-pre\")\n",
    "    return len(code_divs)\n",
    "\n",
    "\n",
    "def get_code_lines_count(soup) -> int:\n",
    "    line_divs = soup.select(\".crayon-code > .crayon-pre > .crayon-line\")\n",
    "    return len(line_divs)\n",
    "\n",
    "\n",
    "def get_tables_count(soup) -> int:\n",
    "    tables = soup.select(\"table:is(.table, .table-striped, .table-hover, .table-condensed, .table-responsive)\")\n",
    "    return len(tables)\n",
    "\n",
    "\n",
    "def get_images_count(soup):\n",
    "    imgs = soup.select(\"div.nv-content-wrap.entry-content\")[0].findChildren(\"img\")\n",
    "    return len(imgs)\n",
    "\n",
    "\n",
    "def get_comments(soup):\n",
    "    comments = []\n",
    "    for comment in soup.select(\".nv-comment-article\")[:2]:\n",
    "        comment_row = {}\n",
    "        comment_row['author'] = comment.select(\".comment-author .author\")[0].get_text()\n",
    "        # print(comment.body.author.get_text())\n",
    "        comment_row['date'] = pd.to_datetime(comment.select(\"time.entry-date.published\")[0]\n",
    "                                     .text.replace(\" o\", \"\"))\n",
    "        content_tags = comment.select(\"div.nv-comment-content.comment.nv-content-wrap > p\")[0]\n",
    "        comment_row['comment'] = content_tags.get_text()\n",
    "        comments.append(comment_row)\n",
    "    return comments"
   ]
  },
  {
   "cell_type": "code",
   "execution_count": 35,
   "outputs": [
    {
     "data": {
      "text/plain": "[{'author': 'Przemek',\n  'date': Timestamp('2005-02-20 22:11:00'),\n  'comment': 'Do tej pory używałem starego Zenita ojca, a ostatnio nawet bawiłem się Smieną, ale na odbitkach można faktycznie zbankrutować. Dorobiłem się niedawno Nikona  3100 – może nie jest to szczyt marzeń, ale przy ładnej pogodzie fotki robią wrażenie, a to chyba najważniejsze, no i można pstrykać do woli.'},\n {'author': 'olympus',\n  'date': Timestamp('2007-09-19 19:37:00'),\n  'comment': 'Ciekawy jestem kiedy przesiądziesz na lustrzankę'}]"
     },
     "execution_count": 35,
     "metadata": {},
     "output_type": "execute_result"
    }
   ],
   "source": [
    "get_comments(posts[4][2])"
   ],
   "metadata": {
    "collapsed": false,
    "pycharm": {
     "name": "#%%\n"
    }
   }
  },
  {
   "cell_type": "code",
   "execution_count": 28,
   "outputs": [
    {
     "data": {
      "text/plain": "[{'author': 'Przemek',\n  'date': Timestamp('2005-02-20 22:11:00'),\n  'comment': 'Do tej pory używałem starego Zenita ojca, a ostatnio nawet bawiłem się Smieną, ale na odbitkach można faktycznie zbankrutować. Dorobiłem się niedawno Nikona  3100 – może nie jest to szczyt marzeń, ale przy ładnej pogodzie fotki robią wrażenie, a to chyba najważniejsze, no i można pstrykać do woli.'},\n {'author': 'olympus',\n  'date': Timestamp('2007-09-19 19:37:00'),\n  'comment': 'Ciekawy jestem kiedy przesiądziesz na lustrzankę'}]"
     },
     "execution_count": 28,
     "metadata": {},
     "output_type": "execute_result"
    }
   ],
   "source": [
    "# posts[0]\n",
    "\n",
    "\n"
   ],
   "metadata": {
    "collapsed": false,
    "pycharm": {
     "name": "#%%\n"
    }
   }
  },
  {
   "cell_type": "code",
   "execution_count": null,
   "metadata": {
    "pycharm": {
     "name": "#%%\n"
    }
   },
   "outputs": [],
   "source": [
    "# posts[0]"
   ]
  },
  {
   "cell_type": "markdown",
   "source": [
    "Convert BeautifulSoup objects to dataframe and extract features from web page"
   ],
   "metadata": {
    "collapsed": false,
    "pycharm": {
     "name": "#%% md\n"
    }
   }
  },
  {
   "cell_type": "code",
   "execution_count": 38,
   "metadata": {
    "pycharm": {
     "name": "#%%\n"
    }
   },
   "outputs": [],
   "source": [
    "rows_list = []\n",
    "comments_list = []\n",
    "i=1\n",
    "for date, title, soup in posts:\n",
    "    row = {}\n",
    "    row['id'] = i\n",
    "    row['title'] = title\n",
    "    row['post_date'] = date\n",
    "    row['code_lines'] = get_code_lines_count(soup)\n",
    "    row['listings_num'] = get_listings_count(soup)\n",
    "    row['tables_count'] = get_tables_count(soup)\n",
    "    row['tags'] = get_tags(soup)\n",
    "    row['comments'] = get_comments(soup)\n",
    "    rows_list.append(row)\n",
    "\n",
    "    comm = {'id': i, 'comments': get_comments(soup)}\n",
    "    comments_list.append(comm)\n",
    "    i += 1\n",
    "\n",
    "post_df = pd.DataFrame(rows_list)\n",
    "comment_df = pd.DataFrame(comments_list)"
   ]
  },
  {
   "cell_type": "code",
   "execution_count": 39,
   "metadata": {
    "pycharm": {
     "name": "#%%\n"
    }
   },
   "outputs": [
    {
     "data": {
      "text/plain": "                                       title   post_date  code_lines  \\\n0                2005_01_04_na-dobry-pocztek  2005-01-04           0   \n1             2005_01_04_pink-floyd-nieznany  2005-01-04           0   \n2  2005_01_05_pink-floyd-nieznany-cig-dalszy  2005-01-05           0   \n3                       2005_01_11_marzyciel  2005-01-11           0   \n4                   2005_01_11_olympus-c-765  2005-01-11           0   \n\n   listings_num  tables_count                                   tags  \\\n0             0             0  [blog, domena, host, hosting, partia]   \n1             0             0                                     []   \n2             0             0                               [partia]   \n3             0             0                                     []   \n4             0             0             [kraków, olympus, zdjęcia]   \n\n                                            comments  \n0  [{'author': 'Michalski9', 'date': 2019-02-12 0...  \n1  [{'author': 'vera', 'date': 2006-09-30 10:57:0...  \n2                                                 []  \n3                                                 []  \n4  [{'author': 'Przemek', 'date': 2005-02-20 22:1...  ",
      "text/html": "<div>\n<style scoped>\n    .dataframe tbody tr th:only-of-type {\n        vertical-align: middle;\n    }\n\n    .dataframe tbody tr th {\n        vertical-align: top;\n    }\n\n    .dataframe thead th {\n        text-align: right;\n    }\n</style>\n<table border=\"1\" class=\"dataframe\">\n  <thead>\n    <tr style=\"text-align: right;\">\n      <th></th>\n      <th>title</th>\n      <th>post_date</th>\n      <th>code_lines</th>\n      <th>listings_num</th>\n      <th>tables_count</th>\n      <th>tags</th>\n      <th>comments</th>\n    </tr>\n  </thead>\n  <tbody>\n    <tr>\n      <th>0</th>\n      <td>2005_01_04_na-dobry-pocztek</td>\n      <td>2005-01-04</td>\n      <td>0</td>\n      <td>0</td>\n      <td>0</td>\n      <td>[blog, domena, host, hosting, partia]</td>\n      <td>[{'author': 'Michalski9', 'date': 2019-02-12 0...</td>\n    </tr>\n    <tr>\n      <th>1</th>\n      <td>2005_01_04_pink-floyd-nieznany</td>\n      <td>2005-01-04</td>\n      <td>0</td>\n      <td>0</td>\n      <td>0</td>\n      <td>[]</td>\n      <td>[{'author': 'vera', 'date': 2006-09-30 10:57:0...</td>\n    </tr>\n    <tr>\n      <th>2</th>\n      <td>2005_01_05_pink-floyd-nieznany-cig-dalszy</td>\n      <td>2005-01-05</td>\n      <td>0</td>\n      <td>0</td>\n      <td>0</td>\n      <td>[partia]</td>\n      <td>[]</td>\n    </tr>\n    <tr>\n      <th>3</th>\n      <td>2005_01_11_marzyciel</td>\n      <td>2005-01-11</td>\n      <td>0</td>\n      <td>0</td>\n      <td>0</td>\n      <td>[]</td>\n      <td>[]</td>\n    </tr>\n    <tr>\n      <th>4</th>\n      <td>2005_01_11_olympus-c-765</td>\n      <td>2005-01-11</td>\n      <td>0</td>\n      <td>0</td>\n      <td>0</td>\n      <td>[kraków, olympus, zdjęcia]</td>\n      <td>[{'author': 'Przemek', 'date': 2005-02-20 22:1...</td>\n    </tr>\n  </tbody>\n</table>\n</div>"
     },
     "execution_count": 39,
     "metadata": {},
     "output_type": "execute_result"
    }
   ],
   "source": [
    "post_df.head()"
   ]
  },
  {
   "cell_type": "code",
   "execution_count": null,
   "outputs": [],
   "source": [
    "comment_df.head()"
   ],
   "metadata": {
    "collapsed": false,
    "pycharm": {
     "name": "#%%\n"
    }
   }
  }
 ],
 "metadata": {
  "kernelspec": {
   "display_name": "Python 3",
   "language": "python",
   "name": "python3"
  },
  "language_info": {
   "codemirror_mode": {
    "name": "ipython",
    "version": 3
   },
   "file_extension": ".py",
   "mimetype": "text/x-python",
   "name": "python",
   "nbconvert_exporter": "python",
   "pygments_lexer": "ipython3",
   "version": "3.8.5"
  }
 },
 "nbformat": 4,
 "nbformat_minor": 1
}